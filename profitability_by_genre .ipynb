{
 "cells": [
  {
   "cell_type": "code",
   "execution_count": 1,
   "metadata": {
    "ExecuteTime": {
     "end_time": "2020-12-04T19:14:02.999199Z",
     "start_time": "2020-12-04T19:14:02.097963Z"
    }
   },
   "outputs": [],
   "source": [
    "import pandas as pd\n",
    "import numpy as np\n",
    "import matplotlib.pyplot as plt\n",
    "import seaborn as sns"
   ]
  },
  {
   "cell_type": "code",
   "execution_count": 2,
   "metadata": {
    "ExecuteTime": {
     "end_time": "2020-12-04T19:14:03.040464Z",
     "start_time": "2020-12-04T19:14:03.038374Z"
    }
   },
   "outputs": [],
   "source": [
    "from glob import glob"
   ]
  },
  {
   "cell_type": "code",
   "execution_count": 3,
   "metadata": {
    "ExecuteTime": {
     "end_time": "2020-12-04T19:14:03.078673Z",
     "start_time": "2020-12-04T19:14:03.075943Z"
    }
   },
   "outputs": [],
   "source": [
    "csv_files = glob(\"zippedData/*.csv.gz\")"
   ]
  },
  {
   "cell_type": "code",
   "execution_count": 4,
   "metadata": {
    "ExecuteTime": {
     "end_time": "2020-12-04T19:14:03.129881Z",
     "start_time": "2020-12-04T19:14:03.123395Z"
    }
   },
   "outputs": [
    {
     "data": {
      "text/plain": [
       "['zippedData/imdb.title.crew.csv.gz',\n",
       " 'zippedData/tmdb.movies.csv.gz',\n",
       " 'zippedData/imdb.title.akas.csv.gz',\n",
       " 'zippedData/imdb.title.ratings.csv.gz',\n",
       " 'zippedData/imdb.name.basics.csv.gz',\n",
       " 'zippedData/imdb.title.basics.csv.gz',\n",
       " 'zippedData/tn.movie_budgets.csv.gz',\n",
       " 'zippedData/bom.movie_gross.csv.gz',\n",
       " 'zippedData/imdb.title.principals.csv.gz']"
      ]
     },
     "execution_count": 4,
     "metadata": {},
     "output_type": "execute_result"
    }
   ],
   "source": [
    "csv_files"
   ]
  },
  {
   "cell_type": "code",
   "execution_count": 5,
   "metadata": {
    "ExecuteTime": {
     "end_time": "2020-12-04T19:14:03.183828Z",
     "start_time": "2020-12-04T19:14:03.179865Z"
    }
   },
   "outputs": [],
   "source": [
    "import os"
   ]
  },
  {
   "cell_type": "code",
   "execution_count": 6,
   "metadata": {
    "ExecuteTime": {
     "end_time": "2020-12-04T19:14:07.364342Z",
     "start_time": "2020-12-04T19:14:03.228025Z"
    }
   },
   "outputs": [],
   "source": [
    "csv_files_dict = {}\n",
    "for filename in csv_files:\n",
    "    filename_cleaned = os.path.basename(filename).replace(\".csv\", \"\").replace(\".\", \"_\")\n",
    "    filename_df = pd.read_csv(filename, index_col = 0)\n",
    "    csv_files_dict[filename_cleaned] = filename_df"
   ]
  },
  {
   "cell_type": "code",
   "execution_count": 7,
   "metadata": {
    "ExecuteTime": {
     "end_time": "2020-12-04T19:14:07.685792Z",
     "start_time": "2020-12-04T19:14:07.681398Z"
    }
   },
   "outputs": [
    {
     "data": {
      "text/plain": [
       "dict_keys(['imdb_title_crew_gz', 'tmdb_movies_gz', 'imdb_title_akas_gz', 'imdb_title_ratings_gz', 'imdb_name_basics_gz', 'imdb_title_basics_gz', 'tn_movie_budgets_gz', 'bom_movie_gross_gz', 'imdb_title_principals_gz'])"
      ]
     },
     "execution_count": 7,
     "metadata": {},
     "output_type": "execute_result"
    }
   ],
   "source": [
    "csv_files_dict.keys()"
   ]
  },
  {
   "cell_type": "code",
   "execution_count": 8,
   "metadata": {
    "ExecuteTime": {
     "end_time": "2020-12-04T19:14:08.054821Z",
     "start_time": "2020-12-04T19:14:08.044449Z"
    }
   },
   "outputs": [
    {
     "data": {
      "text/html": [
       "<div>\n",
       "<style scoped>\n",
       "    .dataframe tbody tr th:only-of-type {\n",
       "        vertical-align: middle;\n",
       "    }\n",
       "\n",
       "    .dataframe tbody tr th {\n",
       "        vertical-align: top;\n",
       "    }\n",
       "\n",
       "    .dataframe thead th {\n",
       "        text-align: right;\n",
       "    }\n",
       "</style>\n",
       "<table border=\"1\" class=\"dataframe\">\n",
       "  <thead>\n",
       "    <tr style=\"text-align: right;\">\n",
       "      <th></th>\n",
       "      <th>directors</th>\n",
       "      <th>writers</th>\n",
       "    </tr>\n",
       "    <tr>\n",
       "      <th>tconst</th>\n",
       "      <th></th>\n",
       "      <th></th>\n",
       "    </tr>\n",
       "  </thead>\n",
       "  <tbody>\n",
       "    <tr>\n",
       "      <th>tt0285252</th>\n",
       "      <td>nm0899854</td>\n",
       "      <td>nm0899854</td>\n",
       "    </tr>\n",
       "    <tr>\n",
       "      <th>tt0438973</th>\n",
       "      <td>NaN</td>\n",
       "      <td>nm0175726,nm1802864</td>\n",
       "    </tr>\n",
       "    <tr>\n",
       "      <th>tt0462036</th>\n",
       "      <td>nm1940585</td>\n",
       "      <td>nm1940585</td>\n",
       "    </tr>\n",
       "    <tr>\n",
       "      <th>tt0835418</th>\n",
       "      <td>nm0151540</td>\n",
       "      <td>nm0310087,nm0841532</td>\n",
       "    </tr>\n",
       "    <tr>\n",
       "      <th>tt0878654</th>\n",
       "      <td>nm0089502,nm2291498,nm2292011</td>\n",
       "      <td>nm0284943</td>\n",
       "    </tr>\n",
       "  </tbody>\n",
       "</table>\n",
       "</div>"
      ],
      "text/plain": [
       "                               directors              writers\n",
       "tconst                                                       \n",
       "tt0285252                      nm0899854            nm0899854\n",
       "tt0438973                            NaN  nm0175726,nm1802864\n",
       "tt0462036                      nm1940585            nm1940585\n",
       "tt0835418                      nm0151540  nm0310087,nm0841532\n",
       "tt0878654  nm0089502,nm2291498,nm2292011            nm0284943"
      ]
     },
     "execution_count": 8,
     "metadata": {},
     "output_type": "execute_result"
    }
   ],
   "source": [
    "csv_files_dict['imdb_title_crew_gz'].head()"
   ]
  },
  {
   "cell_type": "code",
   "execution_count": 9,
   "metadata": {
    "ExecuteTime": {
     "end_time": "2020-12-04T19:14:08.394253Z",
     "start_time": "2020-12-04T19:14:08.391949Z"
    }
   },
   "outputs": [],
   "source": [
    "def read_file(path):\n",
    "    df = pd.read_csv(path)\n",
    "    return df"
   ]
  },
  {
   "cell_type": "markdown",
   "metadata": {},
   "source": [
    "### Most profitable films"
   ]
  },
  {
   "cell_type": "code",
   "execution_count": 10,
   "metadata": {
    "ExecuteTime": {
     "end_time": "2020-12-04T19:14:08.718989Z",
     "start_time": "2020-12-04T19:14:08.716265Z"
    }
   },
   "outputs": [],
   "source": [
    "movie_budgets_df = csv_files_dict['tn_movie_budgets_gz']"
   ]
  },
  {
   "cell_type": "code",
   "execution_count": 11,
   "metadata": {
    "ExecuteTime": {
     "end_time": "2020-12-04T19:14:09.100988Z",
     "start_time": "2020-12-04T19:14:09.092394Z"
    }
   },
   "outputs": [
    {
     "data": {
      "text/html": [
       "<div>\n",
       "<style scoped>\n",
       "    .dataframe tbody tr th:only-of-type {\n",
       "        vertical-align: middle;\n",
       "    }\n",
       "\n",
       "    .dataframe tbody tr th {\n",
       "        vertical-align: top;\n",
       "    }\n",
       "\n",
       "    .dataframe thead th {\n",
       "        text-align: right;\n",
       "    }\n",
       "</style>\n",
       "<table border=\"1\" class=\"dataframe\">\n",
       "  <thead>\n",
       "    <tr style=\"text-align: right;\">\n",
       "      <th></th>\n",
       "      <th>release_date</th>\n",
       "      <th>movie</th>\n",
       "      <th>production_budget</th>\n",
       "      <th>domestic_gross</th>\n",
       "      <th>worldwide_gross</th>\n",
       "    </tr>\n",
       "    <tr>\n",
       "      <th>id</th>\n",
       "      <th></th>\n",
       "      <th></th>\n",
       "      <th></th>\n",
       "      <th></th>\n",
       "      <th></th>\n",
       "    </tr>\n",
       "  </thead>\n",
       "  <tbody>\n",
       "    <tr>\n",
       "      <th>1</th>\n",
       "      <td>Dec 18, 2009</td>\n",
       "      <td>Avatar</td>\n",
       "      <td>$425,000,000</td>\n",
       "      <td>$760,507,625</td>\n",
       "      <td>$2,776,345,279</td>\n",
       "    </tr>\n",
       "    <tr>\n",
       "      <th>2</th>\n",
       "      <td>May 20, 2011</td>\n",
       "      <td>Pirates of the Caribbean: On Stranger Tides</td>\n",
       "      <td>$410,600,000</td>\n",
       "      <td>$241,063,875</td>\n",
       "      <td>$1,045,663,875</td>\n",
       "    </tr>\n",
       "    <tr>\n",
       "      <th>3</th>\n",
       "      <td>Jun 7, 2019</td>\n",
       "      <td>Dark Phoenix</td>\n",
       "      <td>$350,000,000</td>\n",
       "      <td>$42,762,350</td>\n",
       "      <td>$149,762,350</td>\n",
       "    </tr>\n",
       "    <tr>\n",
       "      <th>4</th>\n",
       "      <td>May 1, 2015</td>\n",
       "      <td>Avengers: Age of Ultron</td>\n",
       "      <td>$330,600,000</td>\n",
       "      <td>$459,005,868</td>\n",
       "      <td>$1,403,013,963</td>\n",
       "    </tr>\n",
       "    <tr>\n",
       "      <th>5</th>\n",
       "      <td>Dec 15, 2017</td>\n",
       "      <td>Star Wars Ep. VIII: The Last Jedi</td>\n",
       "      <td>$317,000,000</td>\n",
       "      <td>$620,181,382</td>\n",
       "      <td>$1,316,721,747</td>\n",
       "    </tr>\n",
       "  </tbody>\n",
       "</table>\n",
       "</div>"
      ],
      "text/plain": [
       "    release_date                                        movie  \\\n",
       "id                                                              \n",
       "1   Dec 18, 2009                                       Avatar   \n",
       "2   May 20, 2011  Pirates of the Caribbean: On Stranger Tides   \n",
       "3    Jun 7, 2019                                 Dark Phoenix   \n",
       "4    May 1, 2015                      Avengers: Age of Ultron   \n",
       "5   Dec 15, 2017            Star Wars Ep. VIII: The Last Jedi   \n",
       "\n",
       "   production_budget domestic_gross worldwide_gross  \n",
       "id                                                   \n",
       "1       $425,000,000   $760,507,625  $2,776,345,279  \n",
       "2       $410,600,000   $241,063,875  $1,045,663,875  \n",
       "3       $350,000,000    $42,762,350    $149,762,350  \n",
       "4       $330,600,000   $459,005,868  $1,403,013,963  \n",
       "5       $317,000,000   $620,181,382  $1,316,721,747  "
      ]
     },
     "execution_count": 11,
     "metadata": {},
     "output_type": "execute_result"
    }
   ],
   "source": [
    "movie_budgets_df.head()"
   ]
  },
  {
   "cell_type": "code",
   "execution_count": 12,
   "metadata": {
    "ExecuteTime": {
     "end_time": "2020-12-04T19:14:09.512896Z",
     "start_time": "2020-12-04T19:14:09.507144Z"
    }
   },
   "outputs": [
    {
     "name": "stdout",
     "output_type": "stream",
     "text": [
      "<class 'pandas.core.frame.DataFrame'>\n",
      "Int64Index: 5782 entries, 1 to 82\n",
      "Data columns (total 5 columns):\n",
      "release_date         5782 non-null object\n",
      "movie                5782 non-null object\n",
      "production_budget    5782 non-null object\n",
      "domestic_gross       5782 non-null object\n",
      "worldwide_gross      5782 non-null object\n",
      "dtypes: object(5)\n",
      "memory usage: 271.0+ KB\n"
     ]
    }
   ],
   "source": [
    "movie_budgets_df.info()"
   ]
  },
  {
   "cell_type": "code",
   "execution_count": 13,
   "metadata": {
    "ExecuteTime": {
     "end_time": "2020-12-04T19:14:09.871643Z",
     "start_time": "2020-12-04T19:14:09.869061Z"
    }
   },
   "outputs": [],
   "source": [
    "def convert_col_to_int(df, col):\n",
    "    df[col] = df[col].str.replace(\"$\", \"\").str.replace(\",\", \"\").astype('int')\n",
    "    return df"
   ]
  },
  {
   "cell_type": "code",
   "execution_count": 14,
   "metadata": {
    "ExecuteTime": {
     "end_time": "2020-12-04T19:14:10.253856Z",
     "start_time": "2020-12-04T19:14:10.229343Z"
    }
   },
   "outputs": [],
   "source": [
    "cols_to_convert = ['production_budget', 'domestic_gross', 'worldwide_gross']\n",
    "\n",
    "for col in cols_to_convert:\n",
    "    movie_budgets_df = convert_col_to_int(movie_budgets_df, col)"
   ]
  },
  {
   "cell_type": "code",
   "execution_count": 15,
   "metadata": {
    "ExecuteTime": {
     "end_time": "2020-12-04T19:14:10.663029Z",
     "start_time": "2020-12-04T19:14:10.655950Z"
    }
   },
   "outputs": [
    {
     "name": "stdout",
     "output_type": "stream",
     "text": [
      "<class 'pandas.core.frame.DataFrame'>\n",
      "Int64Index: 5782 entries, 1 to 82\n",
      "Data columns (total 5 columns):\n",
      "release_date         5782 non-null object\n",
      "movie                5782 non-null object\n",
      "production_budget    5782 non-null int64\n",
      "domestic_gross       5782 non-null int64\n",
      "worldwide_gross      5782 non-null int64\n",
      "dtypes: int64(3), object(2)\n",
      "memory usage: 271.0+ KB\n"
     ]
    }
   ],
   "source": [
    "movie_budgets_df.info()"
   ]
  },
  {
   "cell_type": "code",
   "execution_count": 16,
   "metadata": {
    "ExecuteTime": {
     "end_time": "2020-12-04T19:14:11.084230Z",
     "start_time": "2020-12-04T19:14:11.073750Z"
    }
   },
   "outputs": [
    {
     "data": {
      "text/html": [
       "<div>\n",
       "<style scoped>\n",
       "    .dataframe tbody tr th:only-of-type {\n",
       "        vertical-align: middle;\n",
       "    }\n",
       "\n",
       "    .dataframe tbody tr th {\n",
       "        vertical-align: top;\n",
       "    }\n",
       "\n",
       "    .dataframe thead th {\n",
       "        text-align: right;\n",
       "    }\n",
       "</style>\n",
       "<table border=\"1\" class=\"dataframe\">\n",
       "  <thead>\n",
       "    <tr style=\"text-align: right;\">\n",
       "      <th></th>\n",
       "      <th>release_date</th>\n",
       "      <th>movie</th>\n",
       "      <th>production_budget</th>\n",
       "      <th>domestic_gross</th>\n",
       "      <th>worldwide_gross</th>\n",
       "    </tr>\n",
       "    <tr>\n",
       "      <th>id</th>\n",
       "      <th></th>\n",
       "      <th></th>\n",
       "      <th></th>\n",
       "      <th></th>\n",
       "      <th></th>\n",
       "    </tr>\n",
       "  </thead>\n",
       "  <tbody>\n",
       "    <tr>\n",
       "      <th>1</th>\n",
       "      <td>Dec 18, 2009</td>\n",
       "      <td>Avatar</td>\n",
       "      <td>425000000</td>\n",
       "      <td>760507625</td>\n",
       "      <td>2776345279</td>\n",
       "    </tr>\n",
       "    <tr>\n",
       "      <th>2</th>\n",
       "      <td>May 20, 2011</td>\n",
       "      <td>Pirates of the Caribbean: On Stranger Tides</td>\n",
       "      <td>410600000</td>\n",
       "      <td>241063875</td>\n",
       "      <td>1045663875</td>\n",
       "    </tr>\n",
       "    <tr>\n",
       "      <th>3</th>\n",
       "      <td>Jun 7, 2019</td>\n",
       "      <td>Dark Phoenix</td>\n",
       "      <td>350000000</td>\n",
       "      <td>42762350</td>\n",
       "      <td>149762350</td>\n",
       "    </tr>\n",
       "    <tr>\n",
       "      <th>4</th>\n",
       "      <td>May 1, 2015</td>\n",
       "      <td>Avengers: Age of Ultron</td>\n",
       "      <td>330600000</td>\n",
       "      <td>459005868</td>\n",
       "      <td>1403013963</td>\n",
       "    </tr>\n",
       "    <tr>\n",
       "      <th>5</th>\n",
       "      <td>Dec 15, 2017</td>\n",
       "      <td>Star Wars Ep. VIII: The Last Jedi</td>\n",
       "      <td>317000000</td>\n",
       "      <td>620181382</td>\n",
       "      <td>1316721747</td>\n",
       "    </tr>\n",
       "  </tbody>\n",
       "</table>\n",
       "</div>"
      ],
      "text/plain": [
       "    release_date                                        movie  \\\n",
       "id                                                              \n",
       "1   Dec 18, 2009                                       Avatar   \n",
       "2   May 20, 2011  Pirates of the Caribbean: On Stranger Tides   \n",
       "3    Jun 7, 2019                                 Dark Phoenix   \n",
       "4    May 1, 2015                      Avengers: Age of Ultron   \n",
       "5   Dec 15, 2017            Star Wars Ep. VIII: The Last Jedi   \n",
       "\n",
       "    production_budget  domestic_gross  worldwide_gross  \n",
       "id                                                      \n",
       "1           425000000       760507625       2776345279  \n",
       "2           410600000       241063875       1045663875  \n",
       "3           350000000        42762350        149762350  \n",
       "4           330600000       459005868       1403013963  \n",
       "5           317000000       620181382       1316721747  "
      ]
     },
     "execution_count": 16,
     "metadata": {},
     "output_type": "execute_result"
    }
   ],
   "source": [
    "movie_budgets_df.head()"
   ]
  },
  {
   "cell_type": "code",
   "execution_count": 17,
   "metadata": {
    "ExecuteTime": {
     "end_time": "2020-12-04T19:14:11.449396Z",
     "start_time": "2020-12-04T19:14:11.442788Z"
    }
   },
   "outputs": [
    {
     "data": {
      "text/plain": [
       "release_date         0\n",
       "movie                0\n",
       "production_budget    0\n",
       "domestic_gross       0\n",
       "worldwide_gross      0\n",
       "dtype: int64"
      ]
     },
     "execution_count": 17,
     "metadata": {},
     "output_type": "execute_result"
    }
   ],
   "source": [
    "movie_budgets_df.isna().sum()"
   ]
  },
  {
   "cell_type": "code",
   "execution_count": 18,
   "metadata": {
    "ExecuteTime": {
     "end_time": "2020-12-04T19:14:11.829740Z",
     "start_time": "2020-12-04T19:14:11.802434Z"
    }
   },
   "outputs": [
    {
     "name": "stdout",
     "output_type": "stream",
     "text": [
      "Currently checking values from col: release_date\n",
      "Top 5 values:\n",
      "Dec 31, 2014    0.004151\n",
      "Dec 31, 2015    0.003978\n",
      "Dec 31, 2010    0.002594\n",
      "Dec 31, 2008    0.002421\n",
      "Dec 31, 2013    0.002248\n",
      "Name: release_date, dtype: float64\n",
      "------------------------------\n",
      "Currently checking values from col: movie\n",
      "Top 5 values:\n",
      "Home          0.000519\n",
      "Halloween     0.000519\n",
      "King Kong     0.000519\n",
      "Flatliners    0.000346\n",
      "Legend        0.000346\n",
      "Name: movie, dtype: float64\n",
      "------------------------------\n",
      "Currently checking values from col: production_budget\n",
      "Top 5 values:\n",
      "20000000    0.039952\n",
      "10000000    0.036666\n",
      "30000000    0.030612\n",
      "15000000    0.029920\n",
      "25000000    0.029575\n",
      "Name: production_budget, dtype: float64\n",
      "------------------------------\n",
      "Currently checking values from col: domestic_gross\n",
      "Top 5 values:\n",
      "0           0.094777\n",
      "8000000     0.001557\n",
      "2000000     0.001211\n",
      "7000000     0.001211\n",
      "10000000    0.001038\n",
      "Name: domestic_gross, dtype: float64\n",
      "------------------------------\n",
      "Currently checking values from col: worldwide_gross\n",
      "Top 5 values:\n",
      "0          0.063473\n",
      "8000000    0.001557\n",
      "7000000    0.001038\n",
      "2000000    0.001038\n",
      "4000000    0.000692\n",
      "Name: worldwide_gross, dtype: float64\n",
      "------------------------------\n"
     ]
    }
   ],
   "source": [
    "for col in movie_budgets_df:\n",
    "    print(f\"Currently checking values from col: {col}\")\n",
    "    print(f\"Top 5 values:\\n{movie_budgets_df[col].value_counts(normalize = True)[:5]}\")\n",
    "    print(\"------------------------------\")"
   ]
  },
  {
   "cell_type": "markdown",
   "metadata": {},
   "source": [
    "Now that we have checked the most occurring values and we have checked the datatypes as well. we can move on to the actual question. First we will need a new column which shows the profit or loss. "
   ]
  },
  {
   "cell_type": "code",
   "execution_count": 19,
   "metadata": {
    "ExecuteTime": {
     "end_time": "2020-12-04T19:14:12.200814Z",
     "start_time": "2020-12-04T19:14:12.192812Z"
    }
   },
   "outputs": [
    {
     "data": {
      "text/html": [
       "<div>\n",
       "<style scoped>\n",
       "    .dataframe tbody tr th:only-of-type {\n",
       "        vertical-align: middle;\n",
       "    }\n",
       "\n",
       "    .dataframe tbody tr th {\n",
       "        vertical-align: top;\n",
       "    }\n",
       "\n",
       "    .dataframe thead th {\n",
       "        text-align: right;\n",
       "    }\n",
       "</style>\n",
       "<table border=\"1\" class=\"dataframe\">\n",
       "  <thead>\n",
       "    <tr style=\"text-align: right;\">\n",
       "      <th></th>\n",
       "      <th>release_date</th>\n",
       "      <th>movie</th>\n",
       "      <th>production_budget</th>\n",
       "      <th>domestic_gross</th>\n",
       "      <th>worldwide_gross</th>\n",
       "      <th>difference</th>\n",
       "    </tr>\n",
       "    <tr>\n",
       "      <th>id</th>\n",
       "      <th></th>\n",
       "      <th></th>\n",
       "      <th></th>\n",
       "      <th></th>\n",
       "      <th></th>\n",
       "      <th></th>\n",
       "    </tr>\n",
       "  </thead>\n",
       "  <tbody>\n",
       "    <tr>\n",
       "      <th>1</th>\n",
       "      <td>Dec 18, 2009</td>\n",
       "      <td>Avatar</td>\n",
       "      <td>425000000</td>\n",
       "      <td>760507625</td>\n",
       "      <td>2776345279</td>\n",
       "      <td>2351345279</td>\n",
       "    </tr>\n",
       "    <tr>\n",
       "      <th>2</th>\n",
       "      <td>May 20, 2011</td>\n",
       "      <td>Pirates of the Caribbean: On Stranger Tides</td>\n",
       "      <td>410600000</td>\n",
       "      <td>241063875</td>\n",
       "      <td>1045663875</td>\n",
       "      <td>635063875</td>\n",
       "    </tr>\n",
       "    <tr>\n",
       "      <th>3</th>\n",
       "      <td>Jun 7, 2019</td>\n",
       "      <td>Dark Phoenix</td>\n",
       "      <td>350000000</td>\n",
       "      <td>42762350</td>\n",
       "      <td>149762350</td>\n",
       "      <td>-200237650</td>\n",
       "    </tr>\n",
       "    <tr>\n",
       "      <th>4</th>\n",
       "      <td>May 1, 2015</td>\n",
       "      <td>Avengers: Age of Ultron</td>\n",
       "      <td>330600000</td>\n",
       "      <td>459005868</td>\n",
       "      <td>1403013963</td>\n",
       "      <td>1072413963</td>\n",
       "    </tr>\n",
       "    <tr>\n",
       "      <th>5</th>\n",
       "      <td>Dec 15, 2017</td>\n",
       "      <td>Star Wars Ep. VIII: The Last Jedi</td>\n",
       "      <td>317000000</td>\n",
       "      <td>620181382</td>\n",
       "      <td>1316721747</td>\n",
       "      <td>999721747</td>\n",
       "    </tr>\n",
       "  </tbody>\n",
       "</table>\n",
       "</div>"
      ],
      "text/plain": [
       "    release_date                                        movie  \\\n",
       "id                                                              \n",
       "1   Dec 18, 2009                                       Avatar   \n",
       "2   May 20, 2011  Pirates of the Caribbean: On Stranger Tides   \n",
       "3    Jun 7, 2019                                 Dark Phoenix   \n",
       "4    May 1, 2015                      Avengers: Age of Ultron   \n",
       "5   Dec 15, 2017            Star Wars Ep. VIII: The Last Jedi   \n",
       "\n",
       "    production_budget  domestic_gross  worldwide_gross  difference  \n",
       "id                                                                  \n",
       "1           425000000       760507625       2776345279  2351345279  \n",
       "2           410600000       241063875       1045663875   635063875  \n",
       "3           350000000        42762350        149762350  -200237650  \n",
       "4           330600000       459005868       1403013963  1072413963  \n",
       "5           317000000       620181382       1316721747   999721747  "
      ]
     },
     "execution_count": 19,
     "metadata": {},
     "output_type": "execute_result"
    }
   ],
   "source": [
    "movie_budgets_df['difference'] = movie_budgets_df['worldwide_gross'] - movie_budgets_df['production_budget']\n",
    "movie_budgets_df.head()"
   ]
  },
  {
   "cell_type": "code",
   "execution_count": 20,
   "metadata": {
    "ExecuteTime": {
     "end_time": "2020-12-04T19:14:12.591391Z",
     "start_time": "2020-12-04T19:14:12.587282Z"
    }
   },
   "outputs": [],
   "source": [
    "sorted_movies = movie_budgets_df.sort_values(by = 'difference', ascending=False).head()"
   ]
  },
  {
   "cell_type": "code",
   "execution_count": 21,
   "metadata": {
    "ExecuteTime": {
     "end_time": "2020-12-04T19:14:13.020063Z",
     "start_time": "2020-12-04T19:14:13.009434Z"
    }
   },
   "outputs": [
    {
     "data": {
      "text/html": [
       "<div>\n",
       "<style scoped>\n",
       "    .dataframe tbody tr th:only-of-type {\n",
       "        vertical-align: middle;\n",
       "    }\n",
       "\n",
       "    .dataframe tbody tr th {\n",
       "        vertical-align: top;\n",
       "    }\n",
       "\n",
       "    .dataframe thead th {\n",
       "        text-align: right;\n",
       "    }\n",
       "</style>\n",
       "<table border=\"1\" class=\"dataframe\">\n",
       "  <thead>\n",
       "    <tr style=\"text-align: right;\">\n",
       "      <th></th>\n",
       "      <th>release_date</th>\n",
       "      <th>movie</th>\n",
       "      <th>production_budget</th>\n",
       "      <th>domestic_gross</th>\n",
       "      <th>worldwide_gross</th>\n",
       "      <th>difference</th>\n",
       "    </tr>\n",
       "    <tr>\n",
       "      <th>id</th>\n",
       "      <th></th>\n",
       "      <th></th>\n",
       "      <th></th>\n",
       "      <th></th>\n",
       "      <th></th>\n",
       "      <th></th>\n",
       "    </tr>\n",
       "  </thead>\n",
       "  <tbody>\n",
       "    <tr>\n",
       "      <th>1</th>\n",
       "      <td>Dec 18, 2009</td>\n",
       "      <td>Avatar</td>\n",
       "      <td>425000000</td>\n",
       "      <td>760507625</td>\n",
       "      <td>2776345279</td>\n",
       "      <td>2351345279</td>\n",
       "    </tr>\n",
       "    <tr>\n",
       "      <th>43</th>\n",
       "      <td>Dec 19, 1997</td>\n",
       "      <td>Titanic</td>\n",
       "      <td>200000000</td>\n",
       "      <td>659363944</td>\n",
       "      <td>2208208395</td>\n",
       "      <td>2008208395</td>\n",
       "    </tr>\n",
       "    <tr>\n",
       "      <th>7</th>\n",
       "      <td>Apr 27, 2018</td>\n",
       "      <td>Avengers: Infinity War</td>\n",
       "      <td>300000000</td>\n",
       "      <td>678815482</td>\n",
       "      <td>2048134200</td>\n",
       "      <td>1748134200</td>\n",
       "    </tr>\n",
       "    <tr>\n",
       "      <th>6</th>\n",
       "      <td>Dec 18, 2015</td>\n",
       "      <td>Star Wars Ep. VII: The Force Awakens</td>\n",
       "      <td>306000000</td>\n",
       "      <td>936662225</td>\n",
       "      <td>2053311220</td>\n",
       "      <td>1747311220</td>\n",
       "    </tr>\n",
       "    <tr>\n",
       "      <th>34</th>\n",
       "      <td>Jun 12, 2015</td>\n",
       "      <td>Jurassic World</td>\n",
       "      <td>215000000</td>\n",
       "      <td>652270625</td>\n",
       "      <td>1648854864</td>\n",
       "      <td>1433854864</td>\n",
       "    </tr>\n",
       "  </tbody>\n",
       "</table>\n",
       "</div>"
      ],
      "text/plain": [
       "    release_date                                 movie  production_budget  \\\n",
       "id                                                                          \n",
       "1   Dec 18, 2009                                Avatar          425000000   \n",
       "43  Dec 19, 1997                               Titanic          200000000   \n",
       "7   Apr 27, 2018                Avengers: Infinity War          300000000   \n",
       "6   Dec 18, 2015  Star Wars Ep. VII: The Force Awakens          306000000   \n",
       "34  Jun 12, 2015                        Jurassic World          215000000   \n",
       "\n",
       "    domestic_gross  worldwide_gross  difference  \n",
       "id                                               \n",
       "1        760507625       2776345279  2351345279  \n",
       "43       659363944       2208208395  2008208395  \n",
       "7        678815482       2048134200  1748134200  \n",
       "6        936662225       2053311220  1747311220  \n",
       "34       652270625       1648854864  1433854864  "
      ]
     },
     "execution_count": 21,
     "metadata": {},
     "output_type": "execute_result"
    }
   ],
   "source": [
    "sorted_movies"
   ]
  },
  {
   "cell_type": "code",
   "execution_count": 22,
   "metadata": {
    "ExecuteTime": {
     "end_time": "2020-12-04T19:14:13.642759Z",
     "start_time": "2020-12-04T19:14:13.441053Z"
    }
   },
   "outputs": [
    {
     "data": {
      "image/png": "[encoded data removed]",
      "text/plain": [
       "<Figure size 432x288 with 1 Axes>"
      ]
     },
     "metadata": {
      "needs_background": "light"
     },
     "output_type": "display_data"
    }
   ],
   "source": [
    "sns.barplot(x = 'difference', y = 'movie', data = sorted_movies)\n",
    "plt.savefig(\"1.png\")"
   ]
  },
  {
   "cell_type": "markdown",
   "metadata": {},
   "source": [
    "#### lets investigate these movies a bit more and see what makes them so profitable"
   ]
  },
  {
   "cell_type": "code",
   "execution_count": 23,
   "metadata": {
    "ExecuteTime": {
     "end_time": "2020-12-03T19:36:28.474906Z",
     "start_time": "2020-12-03T19:36:28.472261Z"
    }
   },
   "outputs": [],
   "source": [
    "imdb_title_basics_df = csv_files_dict['imdb_title_basics_gz']"
   ]
  },
  {
   "cell_type": "code",
   "execution_count": 24,
   "metadata": {
    "ExecuteTime": {
     "end_time": "2020-12-03T19:36:28.484346Z",
     "start_time": "2020-12-03T19:36:28.477412Z"
    }
   },
   "outputs": [
    {
     "data": {
      "text/html": [
       "<div>\n",
       "<style scoped>\n",
       "    .dataframe tbody tr th:only-of-type {\n",
       "        vertical-align: middle;\n",
       "    }\n",
       "\n",
       "    .dataframe tbody tr th {\n",
       "        vertical-align: top;\n",
       "    }\n",
       "\n",
       "    .dataframe thead th {\n",
       "        text-align: right;\n",
       "    }\n",
       "</style>\n",
       "<table border=\"1\" class=\"dataframe\">\n",
       "  <thead>\n",
       "    <tr style=\"text-align: right;\">\n",
       "      <th></th>\n",
       "      <th>primary_title</th>\n",
       "      <th>original_title</th>\n",
       "      <th>start_year</th>\n",
       "      <th>runtime_minutes</th>\n",
       "      <th>genres</th>\n",
       "    </tr>\n",
       "    <tr>\n",
       "      <th>tconst</th>\n",
       "      <th></th>\n",
       "      <th></th>\n",
       "      <th></th>\n",
       "      <th></th>\n",
       "      <th></th>\n",
       "    </tr>\n",
       "  </thead>\n",
       "  <tbody>\n",
       "    <tr>\n",
       "      <th>tt0063540</th>\n",
       "      <td>Sunghursh</td>\n",
       "      <td>Sunghursh</td>\n",
       "      <td>2013</td>\n",
       "      <td>175.0</td>\n",
       "      <td>Action,Crime,Drama</td>\n",
       "    </tr>\n",
       "    <tr>\n",
       "      <th>tt0066787</th>\n",
       "      <td>One Day Before the Rainy Season</td>\n",
       "      <td>Ashad Ka Ek Din</td>\n",
       "      <td>2019</td>\n",
       "      <td>114.0</td>\n",
       "      <td>Biography,Drama</td>\n",
       "    </tr>\n",
       "    <tr>\n",
       "      <th>tt0069049</th>\n",
       "      <td>The Other Side of the Wind</td>\n",
       "      <td>The Other Side of the Wind</td>\n",
       "      <td>2018</td>\n",
       "      <td>122.0</td>\n",
       "      <td>Drama</td>\n",
       "    </tr>\n",
       "    <tr>\n",
       "      <th>tt0069204</th>\n",
       "      <td>Sabse Bada Sukh</td>\n",
       "      <td>Sabse Bada Sukh</td>\n",
       "      <td>2018</td>\n",
       "      <td>NaN</td>\n",
       "      <td>Comedy,Drama</td>\n",
       "    </tr>\n",
       "    <tr>\n",
       "      <th>tt0100275</th>\n",
       "      <td>The Wandering Soap Opera</td>\n",
       "      <td>La Telenovela Errante</td>\n",
       "      <td>2017</td>\n",
       "      <td>80.0</td>\n",
       "      <td>Comedy,Drama,Fantasy</td>\n",
       "    </tr>\n",
       "  </tbody>\n",
       "</table>\n",
       "</div>"
      ],
      "text/plain": [
       "                             primary_title              original_title  \\\n",
       "tconst                                                                   \n",
       "tt0063540                        Sunghursh                   Sunghursh   \n",
       "tt0066787  One Day Before the Rainy Season             Ashad Ka Ek Din   \n",
       "tt0069049       The Other Side of the Wind  The Other Side of the Wind   \n",
       "tt0069204                  Sabse Bada Sukh             Sabse Bada Sukh   \n",
       "tt0100275         The Wandering Soap Opera       La Telenovela Errante   \n",
       "\n",
       "           start_year  runtime_minutes                genres  \n",
       "tconst                                                        \n",
       "tt0063540        2013            175.0    Action,Crime,Drama  \n",
       "tt0066787        2019            114.0       Biography,Drama  \n",
       "tt0069049        2018            122.0                 Drama  \n",
       "tt0069204        2018              NaN          Comedy,Drama  \n",
       "tt0100275        2017             80.0  Comedy,Drama,Fantasy  "
      ]
     },
     "execution_count": 24,
     "metadata": {},
     "output_type": "execute_result"
    }
   ],
   "source": [
    "imdb_title_basics_df.head()"
   ]
  },
  {
   "cell_type": "code",
   "execution_count": 25,
   "metadata": {
    "ExecuteTime": {
     "end_time": "2020-12-03T19:36:28.490207Z",
     "start_time": "2020-12-03T19:36:28.486325Z"
    }
   },
   "outputs": [
    {
     "data": {
      "text/plain": [
       "(146144, 5)"
      ]
     },
     "execution_count": 25,
     "metadata": {},
     "output_type": "execute_result"
    }
   ],
   "source": [
    "imdb_title_basics_df.shape"
   ]
  },
  {
   "cell_type": "code",
   "execution_count": 26,
   "metadata": {
    "ExecuteTime": {
     "end_time": "2020-12-03T19:36:28.547142Z",
     "start_time": "2020-12-03T19:36:28.492348Z"
    }
   },
   "outputs": [],
   "source": [
    "movie_details_df = pd.merge(movie_budgets_df, imdb_title_basics_df, left_on = ['movie'],\n",
    "                        right_on = ['primary_title'],\n",
    "                        how = 'left')"
   ]
  },
  {
   "cell_type": "code",
   "execution_count": 27,
   "metadata": {
    "ExecuteTime": {
     "end_time": "2020-12-03T19:36:28.566793Z",
     "start_time": "2020-12-03T19:36:28.549137Z"
    }
   },
   "outputs": [
    {
     "data": {
      "text/html": [
       "<div>\n",
       "<style scoped>\n",
       "    .dataframe tbody tr th:only-of-type {\n",
       "        vertical-align: middle;\n",
       "    }\n",
       "\n",
       "    .dataframe tbody tr th {\n",
       "        vertical-align: top;\n",
       "    }\n",
       "\n",
       "    .dataframe thead th {\n",
       "        text-align: right;\n",
       "    }\n",
       "</style>\n",
       "<table border=\"1\" class=\"dataframe\">\n",
       "  <thead>\n",
       "    <tr style=\"text-align: right;\">\n",
       "      <th></th>\n",
       "      <th>release_date</th>\n",
       "      <th>movie</th>\n",
       "      <th>production_budget</th>\n",
       "      <th>domestic_gross</th>\n",
       "      <th>worldwide_gross</th>\n",
       "      <th>difference</th>\n",
       "      <th>primary_title</th>\n",
       "      <th>original_title</th>\n",
       "      <th>start_year</th>\n",
       "      <th>runtime_minutes</th>\n",
       "      <th>genres</th>\n",
       "    </tr>\n",
       "  </thead>\n",
       "  <tbody>\n",
       "    <tr>\n",
       "      <th>0</th>\n",
       "      <td>Dec 18, 2009</td>\n",
       "      <td>Avatar</td>\n",
       "      <td>425000000</td>\n",
       "      <td>760507625</td>\n",
       "      <td>2776345279</td>\n",
       "      <td>2351345279</td>\n",
       "      <td>Avatar</td>\n",
       "      <td>Abatâ</td>\n",
       "      <td>2011.0</td>\n",
       "      <td>93.0</td>\n",
       "      <td>Horror</td>\n",
       "    </tr>\n",
       "    <tr>\n",
       "      <th>1</th>\n",
       "      <td>May 20, 2011</td>\n",
       "      <td>Pirates of the Caribbean: On Stranger Tides</td>\n",
       "      <td>410600000</td>\n",
       "      <td>241063875</td>\n",
       "      <td>1045663875</td>\n",
       "      <td>635063875</td>\n",
       "      <td>Pirates of the Caribbean: On Stranger Tides</td>\n",
       "      <td>Pirates of the Caribbean: On Stranger Tides</td>\n",
       "      <td>2011.0</td>\n",
       "      <td>136.0</td>\n",
       "      <td>Action,Adventure,Fantasy</td>\n",
       "    </tr>\n",
       "    <tr>\n",
       "      <th>2</th>\n",
       "      <td>Jun 7, 2019</td>\n",
       "      <td>Dark Phoenix</td>\n",
       "      <td>350000000</td>\n",
       "      <td>42762350</td>\n",
       "      <td>149762350</td>\n",
       "      <td>-200237650</td>\n",
       "      <td>Dark Phoenix</td>\n",
       "      <td>Dark Phoenix</td>\n",
       "      <td>2019.0</td>\n",
       "      <td>113.0</td>\n",
       "      <td>Action,Adventure,Sci-Fi</td>\n",
       "    </tr>\n",
       "    <tr>\n",
       "      <th>3</th>\n",
       "      <td>May 1, 2015</td>\n",
       "      <td>Avengers: Age of Ultron</td>\n",
       "      <td>330600000</td>\n",
       "      <td>459005868</td>\n",
       "      <td>1403013963</td>\n",
       "      <td>1072413963</td>\n",
       "      <td>Avengers: Age of Ultron</td>\n",
       "      <td>Avengers: Age of Ultron</td>\n",
       "      <td>2015.0</td>\n",
       "      <td>141.0</td>\n",
       "      <td>Action,Adventure,Sci-Fi</td>\n",
       "    </tr>\n",
       "    <tr>\n",
       "      <th>4</th>\n",
       "      <td>Dec 15, 2017</td>\n",
       "      <td>Star Wars Ep. VIII: The Last Jedi</td>\n",
       "      <td>317000000</td>\n",
       "      <td>620181382</td>\n",
       "      <td>1316721747</td>\n",
       "      <td>999721747</td>\n",
       "      <td>NaN</td>\n",
       "      <td>NaN</td>\n",
       "      <td>NaN</td>\n",
       "      <td>NaN</td>\n",
       "      <td>NaN</td>\n",
       "    </tr>\n",
       "  </tbody>\n",
       "</table>\n",
       "</div>"
      ],
      "text/plain": [
       "   release_date                                        movie  \\\n",
       "0  Dec 18, 2009                                       Avatar   \n",
       "1  May 20, 2011  Pirates of the Caribbean: On Stranger Tides   \n",
       "2   Jun 7, 2019                                 Dark Phoenix   \n",
       "3   May 1, 2015                      Avengers: Age of Ultron   \n",
       "4  Dec 15, 2017            Star Wars Ep. VIII: The Last Jedi   \n",
       "\n",
       "   production_budget  domestic_gross  worldwide_gross  difference  \\\n",
       "0          425000000       760507625       2776345279  2351345279   \n",
       "1          410600000       241063875       1045663875   635063875   \n",
       "2          350000000        42762350        149762350  -200237650   \n",
       "3          330600000       459005868       1403013963  1072413963   \n",
       "4          317000000       620181382       1316721747   999721747   \n",
       "\n",
       "                                 primary_title  \\\n",
       "0                                       Avatar   \n",
       "1  Pirates of the Caribbean: On Stranger Tides   \n",
       "2                                 Dark Phoenix   \n",
       "3                      Avengers: Age of Ultron   \n",
       "4                                          NaN   \n",
       "\n",
       "                                original_title  start_year  runtime_minutes  \\\n",
       "0                                        Abatâ      2011.0             93.0   \n",
       "1  Pirates of the Caribbean: On Stranger Tides      2011.0            136.0   \n",
       "2                                 Dark Phoenix      2019.0            113.0   \n",
       "3                      Avengers: Age of Ultron      2015.0            141.0   \n",
       "4                                          NaN         NaN              NaN   \n",
       "\n",
       "                     genres  \n",
       "0                    Horror  \n",
       "1  Action,Adventure,Fantasy  \n",
       "2   Action,Adventure,Sci-Fi  \n",
       "3   Action,Adventure,Sci-Fi  \n",
       "4                       NaN  "
      ]
     },
     "execution_count": 27,
     "metadata": {},
     "output_type": "execute_result"
    }
   ],
   "source": [
    "movie_details_df.head()"
   ]
  },
  {
   "cell_type": "code",
   "execution_count": 28,
   "metadata": {
    "ExecuteTime": {
     "end_time": "2020-12-03T19:36:28.583535Z",
     "start_time": "2020-12-03T19:36:28.568450Z"
    }
   },
   "outputs": [
    {
     "name": "stdout",
     "output_type": "stream",
     "text": [
      "<class 'pandas.core.frame.DataFrame'>\n",
      "Int64Index: 7221 entries, 0 to 7220\n",
      "Data columns (total 11 columns):\n",
      "release_date         7221 non-null object\n",
      "movie                7221 non-null object\n",
      "production_budget    7221 non-null int64\n",
      "domestic_gross       7221 non-null int64\n",
      "worldwide_gross      7221 non-null int64\n",
      "difference           7221 non-null int64\n",
      "primary_title        3815 non-null object\n",
      "original_title       3814 non-null object\n",
      "start_year           3815 non-null float64\n",
      "runtime_minutes      3328 non-null float64\n",
      "genres               3743 non-null object\n",
      "dtypes: float64(2), int64(4), object(5)\n",
      "memory usage: 677.0+ KB\n"
     ]
    }
   ],
   "source": [
    "movie_details_df.info()"
   ]
  },
  {
   "cell_type": "code",
   "execution_count": 29,
   "metadata": {
    "ExecuteTime": {
     "end_time": "2020-12-03T19:36:28.596288Z",
     "start_time": "2020-12-03T19:36:28.585264Z"
    }
   },
   "outputs": [
    {
     "data": {
      "text/plain": [
       "release_date         0.000000\n",
       "movie                0.000000\n",
       "production_budget    0.000000\n",
       "domestic_gross       0.000000\n",
       "worldwide_gross      0.000000\n",
       "difference           0.000000\n",
       "primary_title        0.471680\n",
       "original_title       0.471818\n",
       "start_year           0.471680\n",
       "runtime_minutes      0.539122\n",
       "genres               0.481651\n",
       "dtype: float64"
      ]
     },
     "execution_count": 29,
     "metadata": {},
     "output_type": "execute_result"
    }
   ],
   "source": [
    "movie_details_df.isna().sum() / len(movie_details_df)"
   ]
  },
  {
   "cell_type": "code",
   "execution_count": 30,
   "metadata": {
    "ExecuteTime": {
     "end_time": "2020-12-03T19:36:28.604958Z",
     "start_time": "2020-12-03T19:36:28.597917Z"
    }
   },
   "outputs": [],
   "source": [
    "movie_details_df.dropna(inplace=True)"
   ]
  },
  {
   "cell_type": "code",
   "execution_count": 31,
   "metadata": {
    "ExecuteTime": {
     "end_time": "2020-12-03T19:36:28.613683Z",
     "start_time": "2020-12-03T19:36:28.606466Z"
    }
   },
   "outputs": [
    {
     "name": "stdout",
     "output_type": "stream",
     "text": [
      "<class 'pandas.core.frame.DataFrame'>\n",
      "Int64Index: 3309 entries, 0 to 7219\n",
      "Data columns (total 11 columns):\n",
      "release_date         3309 non-null object\n",
      "movie                3309 non-null object\n",
      "production_budget    3309 non-null int64\n",
      "domestic_gross       3309 non-null int64\n",
      "worldwide_gross      3309 non-null int64\n",
      "difference           3309 non-null int64\n",
      "primary_title        3309 non-null object\n",
      "original_title       3309 non-null object\n",
      "start_year           3309 non-null float64\n",
      "runtime_minutes      3309 non-null float64\n",
      "genres               3309 non-null object\n",
      "dtypes: float64(2), int64(4), object(5)\n",
      "memory usage: 310.2+ KB\n"
     ]
    }
   ],
   "source": [
    "movie_details_df.info()"
   ]
  },
  {
   "cell_type": "code",
   "execution_count": 32,
   "metadata": {
    "ExecuteTime": {
     "end_time": "2020-12-03T19:36:28.624178Z",
     "start_time": "2020-12-03T19:36:28.615361Z"
    }
   },
   "outputs": [
    {
     "data": {
      "text/plain": [
       "release_date         0\n",
       "movie                0\n",
       "production_budget    0\n",
       "domestic_gross       0\n",
       "worldwide_gross      0\n",
       "difference           0\n",
       "primary_title        0\n",
       "original_title       0\n",
       "start_year           0\n",
       "runtime_minutes      0\n",
       "genres               0\n",
       "dtype: int64"
      ]
     },
     "execution_count": 32,
     "metadata": {},
     "output_type": "execute_result"
    }
   ],
   "source": [
    "movie_details_df.isna().sum()"
   ]
  },
  {
   "cell_type": "code",
   "execution_count": 33,
   "metadata": {
    "ExecuteTime": {
     "end_time": "2020-12-03T19:36:28.631720Z",
     "start_time": "2020-12-03T19:36:28.626575Z"
    }
   },
   "outputs": [
    {
     "data": {
      "text/plain": [
       "0                         Horror\n",
       "1       Action,Adventure,Fantasy\n",
       "2        Action,Adventure,Sci-Fi\n",
       "3        Action,Adventure,Sci-Fi\n",
       "6        Action,Adventure,Sci-Fi\n",
       "                  ...           \n",
       "7204         Comedy,Drama,Horror\n",
       "7205                       Drama\n",
       "7211                Comedy,Drama\n",
       "7216      Horror,Sci-Fi,Thriller\n",
       "7219       Drama,Horror,Thriller\n",
       "Name: genres, Length: 3309, dtype: object"
      ]
     },
     "execution_count": 33,
     "metadata": {},
     "output_type": "execute_result"
    }
   ],
   "source": [
    "movie_details_df.genres"
   ]
  },
  {
   "cell_type": "code",
   "execution_count": 34,
   "metadata": {
    "ExecuteTime": {
     "end_time": "2020-12-03T19:36:28.648780Z",
     "start_time": "2020-12-03T19:36:28.633677Z"
    }
   },
   "outputs": [
    {
     "data": {
      "text/html": [
       "<div>\n",
       "<style scoped>\n",
       "    .dataframe tbody tr th:only-of-type {\n",
       "        vertical-align: middle;\n",
       "    }\n",
       "\n",
       "    .dataframe tbody tr th {\n",
       "        vertical-align: top;\n",
       "    }\n",
       "\n",
       "    .dataframe thead th {\n",
       "        text-align: right;\n",
       "    }\n",
       "</style>\n",
       "<table border=\"1\" class=\"dataframe\">\n",
       "  <thead>\n",
       "    <tr style=\"text-align: right;\">\n",
       "      <th></th>\n",
       "      <th>release_date</th>\n",
       "      <th>movie</th>\n",
       "      <th>production_budget</th>\n",
       "      <th>domestic_gross</th>\n",
       "      <th>worldwide_gross</th>\n",
       "      <th>difference</th>\n",
       "      <th>primary_title</th>\n",
       "      <th>original_title</th>\n",
       "      <th>start_year</th>\n",
       "      <th>runtime_minutes</th>\n",
       "      <th>genres</th>\n",
       "      <th>genres_split</th>\n",
       "    </tr>\n",
       "  </thead>\n",
       "  <tbody>\n",
       "    <tr>\n",
       "      <th>0</th>\n",
       "      <td>Dec 18, 2009</td>\n",
       "      <td>Avatar</td>\n",
       "      <td>425000000</td>\n",
       "      <td>760507625</td>\n",
       "      <td>2776345279</td>\n",
       "      <td>2351345279</td>\n",
       "      <td>Avatar</td>\n",
       "      <td>Abatâ</td>\n",
       "      <td>2011.0</td>\n",
       "      <td>93.0</td>\n",
       "      <td>Horror</td>\n",
       "      <td>[Horror]</td>\n",
       "    </tr>\n",
       "    <tr>\n",
       "      <th>1</th>\n",
       "      <td>May 20, 2011</td>\n",
       "      <td>Pirates of the Caribbean: On Stranger Tides</td>\n",
       "      <td>410600000</td>\n",
       "      <td>241063875</td>\n",
       "      <td>1045663875</td>\n",
       "      <td>635063875</td>\n",
       "      <td>Pirates of the Caribbean: On Stranger Tides</td>\n",
       "      <td>Pirates of the Caribbean: On Stranger Tides</td>\n",
       "      <td>2011.0</td>\n",
       "      <td>136.0</td>\n",
       "      <td>Action,Adventure,Fantasy</td>\n",
       "      <td>[Action, Adventure, Fantasy]</td>\n",
       "    </tr>\n",
       "    <tr>\n",
       "      <th>2</th>\n",
       "      <td>Jun 7, 2019</td>\n",
       "      <td>Dark Phoenix</td>\n",
       "      <td>350000000</td>\n",
       "      <td>42762350</td>\n",
       "      <td>149762350</td>\n",
       "      <td>-200237650</td>\n",
       "      <td>Dark Phoenix</td>\n",
       "      <td>Dark Phoenix</td>\n",
       "      <td>2019.0</td>\n",
       "      <td>113.0</td>\n",
       "      <td>Action,Adventure,Sci-Fi</td>\n",
       "      <td>[Action, Adventure, Sci-Fi]</td>\n",
       "    </tr>\n",
       "    <tr>\n",
       "      <th>3</th>\n",
       "      <td>May 1, 2015</td>\n",
       "      <td>Avengers: Age of Ultron</td>\n",
       "      <td>330600000</td>\n",
       "      <td>459005868</td>\n",
       "      <td>1403013963</td>\n",
       "      <td>1072413963</td>\n",
       "      <td>Avengers: Age of Ultron</td>\n",
       "      <td>Avengers: Age of Ultron</td>\n",
       "      <td>2015.0</td>\n",
       "      <td>141.0</td>\n",
       "      <td>Action,Adventure,Sci-Fi</td>\n",
       "      <td>[Action, Adventure, Sci-Fi]</td>\n",
       "    </tr>\n",
       "    <tr>\n",
       "      <th>6</th>\n",
       "      <td>Apr 27, 2018</td>\n",
       "      <td>Avengers: Infinity War</td>\n",
       "      <td>300000000</td>\n",
       "      <td>678815482</td>\n",
       "      <td>2048134200</td>\n",
       "      <td>1748134200</td>\n",
       "      <td>Avengers: Infinity War</td>\n",
       "      <td>Avengers: Infinity War</td>\n",
       "      <td>2018.0</td>\n",
       "      <td>149.0</td>\n",
       "      <td>Action,Adventure,Sci-Fi</td>\n",
       "      <td>[Action, Adventure, Sci-Fi]</td>\n",
       "    </tr>\n",
       "  </tbody>\n",
       "</table>\n",
       "</div>"
      ],
      "text/plain": [
       "   release_date                                        movie  \\\n",
       "0  Dec 18, 2009                                       Avatar   \n",
       "1  May 20, 2011  Pirates of the Caribbean: On Stranger Tides   \n",
       "2   Jun 7, 2019                                 Dark Phoenix   \n",
       "3   May 1, 2015                      Avengers: Age of Ultron   \n",
       "6  Apr 27, 2018                       Avengers: Infinity War   \n",
       "\n",
       "   production_budget  domestic_gross  worldwide_gross  difference  \\\n",
       "0          425000000       760507625       2776345279  2351345279   \n",
       "1          410600000       241063875       1045663875   635063875   \n",
       "2          350000000        42762350        149762350  -200237650   \n",
       "3          330600000       459005868       1403013963  1072413963   \n",
       "6          300000000       678815482       2048134200  1748134200   \n",
       "\n",
       "                                 primary_title  \\\n",
       "0                                       Avatar   \n",
       "1  Pirates of the Caribbean: On Stranger Tides   \n",
       "2                                 Dark Phoenix   \n",
       "3                      Avengers: Age of Ultron   \n",
       "6                       Avengers: Infinity War   \n",
       "\n",
       "                                original_title  start_year  runtime_minutes  \\\n",
       "0                                        Abatâ      2011.0             93.0   \n",
       "1  Pirates of the Caribbean: On Stranger Tides      2011.0            136.0   \n",
       "2                                 Dark Phoenix      2019.0            113.0   \n",
       "3                      Avengers: Age of Ultron      2015.0            141.0   \n",
       "6                       Avengers: Infinity War      2018.0            149.0   \n",
       "\n",
       "                     genres                  genres_split  \n",
       "0                    Horror                      [Horror]  \n",
       "1  Action,Adventure,Fantasy  [Action, Adventure, Fantasy]  \n",
       "2   Action,Adventure,Sci-Fi   [Action, Adventure, Sci-Fi]  \n",
       "3   Action,Adventure,Sci-Fi   [Action, Adventure, Sci-Fi]  \n",
       "6   Action,Adventure,Sci-Fi   [Action, Adventure, Sci-Fi]  "
      ]
     },
     "execution_count": 34,
     "metadata": {},
     "output_type": "execute_result"
    }
   ],
   "source": [
    "movie_details_df['genres_split'] = movie_details_df['genres'].map(lambda x: x.split(\",\") if x else x)\n",
    "movie_details_df.head()"
   ]
  },
  {
   "cell_type": "code",
   "execution_count": 35,
   "metadata": {
    "ExecuteTime": {
     "end_time": "2020-12-03T19:36:28.664296Z",
     "start_time": "2020-12-03T19:36:28.650048Z"
    }
   },
   "outputs": [
    {
     "name": "stdout",
     "output_type": "stream",
     "text": [
      "<class 'pandas.core.frame.DataFrame'>\n",
      "Int64Index: 3309 entries, 0 to 7219\n",
      "Data columns (total 12 columns):\n",
      "release_date         3309 non-null object\n",
      "movie                3309 non-null object\n",
      "production_budget    3309 non-null int64\n",
      "domestic_gross       3309 non-null int64\n",
      "worldwide_gross      3309 non-null int64\n",
      "difference           3309 non-null int64\n",
      "primary_title        3309 non-null object\n",
      "original_title       3309 non-null object\n",
      "start_year           3309 non-null float64\n",
      "runtime_minutes      3309 non-null float64\n",
      "genres               3309 non-null object\n",
      "genres_split         3309 non-null object\n",
      "dtypes: float64(2), int64(4), object(6)\n",
      "memory usage: 336.1+ KB\n"
     ]
    }
   ],
   "source": [
    "movie_details_df.info()"
   ]
  },
  {
   "cell_type": "code",
   "execution_count": 36,
   "metadata": {
    "ExecuteTime": {
     "end_time": "2020-12-03T19:36:28.669958Z",
     "start_time": "2020-12-03T19:36:28.666558Z"
    }
   },
   "outputs": [],
   "source": [
    "all_genres = set()\n",
    "for genre in movie_details_df['genres_split']:\n",
    "    if genre:\n",
    "        all_genres.update(genre)"
   ]
  },
  {
   "cell_type": "code",
   "execution_count": 37,
   "metadata": {
    "ExecuteTime": {
     "end_time": "2020-12-03T19:36:28.674492Z",
     "start_time": "2020-12-03T19:36:28.671123Z"
    }
   },
   "outputs": [
    {
     "data": {
      "text/plain": [
       "{'Action',\n",
       " 'Adventure',\n",
       " 'Animation',\n",
       " 'Biography',\n",
       " 'Comedy',\n",
       " 'Crime',\n",
       " 'Documentary',\n",
       " 'Drama',\n",
       " 'Family',\n",
       " 'Fantasy',\n",
       " 'History',\n",
       " 'Horror',\n",
       " 'Music',\n",
       " 'Musical',\n",
       " 'Mystery',\n",
       " 'News',\n",
       " 'Reality-TV',\n",
       " 'Romance',\n",
       " 'Sci-Fi',\n",
       " 'Sport',\n",
       " 'Thriller',\n",
       " 'War',\n",
       " 'Western'}"
      ]
     },
     "execution_count": 37,
     "metadata": {},
     "output_type": "execute_result"
    }
   ],
   "source": [
    "all_genres"
   ]
  },
  {
   "cell_type": "code",
   "execution_count": 38,
   "metadata": {
    "ExecuteTime": {
     "end_time": "2020-12-03T19:36:28.680775Z",
     "start_time": "2020-12-03T19:36:28.676337Z"
    }
   },
   "outputs": [
    {
     "data": {
      "text/plain": [
       "list"
      ]
     },
     "execution_count": 38,
     "metadata": {},
     "output_type": "execute_result"
    }
   ],
   "source": [
    "type(movie_details_df['genres_split'][0])"
   ]
  },
  {
   "cell_type": "code",
   "execution_count": 39,
   "metadata": {
    "ExecuteTime": {
     "end_time": "2020-12-03T19:36:28.689008Z",
     "start_time": "2020-12-03T19:36:28.682860Z"
    }
   },
   "outputs": [],
   "source": [
    "movie_details_df['genre1'] = movie_details_df['genres_split'].map(lambda x: x[0])"
   ]
  },
  {
   "cell_type": "code",
   "execution_count": 40,
   "metadata": {
    "ExecuteTime": {
     "end_time": "2020-12-03T19:36:28.707277Z",
     "start_time": "2020-12-03T19:36:28.691303Z"
    }
   },
   "outputs": [
    {
     "data": {
      "text/html": [
       "<div>\n",
       "<style scoped>\n",
       "    .dataframe tbody tr th:only-of-type {\n",
       "        vertical-align: middle;\n",
       "    }\n",
       "\n",
       "    .dataframe tbody tr th {\n",
       "        vertical-align: top;\n",
       "    }\n",
       "\n",
       "    .dataframe thead th {\n",
       "        text-align: right;\n",
       "    }\n",
       "</style>\n",
       "<table border=\"1\" class=\"dataframe\">\n",
       "  <thead>\n",
       "    <tr style=\"text-align: right;\">\n",
       "      <th></th>\n",
       "      <th>release_date</th>\n",
       "      <th>movie</th>\n",
       "      <th>production_budget</th>\n",
       "      <th>domestic_gross</th>\n",
       "      <th>worldwide_gross</th>\n",
       "      <th>difference</th>\n",
       "      <th>primary_title</th>\n",
       "      <th>original_title</th>\n",
       "      <th>start_year</th>\n",
       "      <th>runtime_minutes</th>\n",
       "      <th>genres</th>\n",
       "      <th>genres_split</th>\n",
       "      <th>genre1</th>\n",
       "    </tr>\n",
       "  </thead>\n",
       "  <tbody>\n",
       "    <tr>\n",
       "      <th>0</th>\n",
       "      <td>Dec 18, 2009</td>\n",
       "      <td>Avatar</td>\n",
       "      <td>425000000</td>\n",
       "      <td>760507625</td>\n",
       "      <td>2776345279</td>\n",
       "      <td>2351345279</td>\n",
       "      <td>Avatar</td>\n",
       "      <td>Abatâ</td>\n",
       "      <td>2011.0</td>\n",
       "      <td>93.0</td>\n",
       "      <td>Horror</td>\n",
       "      <td>[Horror]</td>\n",
       "      <td>Horror</td>\n",
       "    </tr>\n",
       "    <tr>\n",
       "      <th>1</th>\n",
       "      <td>May 20, 2011</td>\n",
       "      <td>Pirates of the Caribbean: On Stranger Tides</td>\n",
       "      <td>410600000</td>\n",
       "      <td>241063875</td>\n",
       "      <td>1045663875</td>\n",
       "      <td>635063875</td>\n",
       "      <td>Pirates of the Caribbean: On Stranger Tides</td>\n",
       "      <td>Pirates of the Caribbean: On Stranger Tides</td>\n",
       "      <td>2011.0</td>\n",
       "      <td>136.0</td>\n",
       "      <td>Action,Adventure,Fantasy</td>\n",
       "      <td>[Action, Adventure, Fantasy]</td>\n",
       "      <td>Action</td>\n",
       "    </tr>\n",
       "    <tr>\n",
       "      <th>2</th>\n",
       "      <td>Jun 7, 2019</td>\n",
       "      <td>Dark Phoenix</td>\n",
       "      <td>350000000</td>\n",
       "      <td>42762350</td>\n",
       "      <td>149762350</td>\n",
       "      <td>-200237650</td>\n",
       "      <td>Dark Phoenix</td>\n",
       "      <td>Dark Phoenix</td>\n",
       "      <td>2019.0</td>\n",
       "      <td>113.0</td>\n",
       "      <td>Action,Adventure,Sci-Fi</td>\n",
       "      <td>[Action, Adventure, Sci-Fi]</td>\n",
       "      <td>Action</td>\n",
       "    </tr>\n",
       "    <tr>\n",
       "      <th>3</th>\n",
       "      <td>May 1, 2015</td>\n",
       "      <td>Avengers: Age of Ultron</td>\n",
       "      <td>330600000</td>\n",
       "      <td>459005868</td>\n",
       "      <td>1403013963</td>\n",
       "      <td>1072413963</td>\n",
       "      <td>Avengers: Age of Ultron</td>\n",
       "      <td>Avengers: Age of Ultron</td>\n",
       "      <td>2015.0</td>\n",
       "      <td>141.0</td>\n",
       "      <td>Action,Adventure,Sci-Fi</td>\n",
       "      <td>[Action, Adventure, Sci-Fi]</td>\n",
       "      <td>Action</td>\n",
       "    </tr>\n",
       "    <tr>\n",
       "      <th>6</th>\n",
       "      <td>Apr 27, 2018</td>\n",
       "      <td>Avengers: Infinity War</td>\n",
       "      <td>300000000</td>\n",
       "      <td>678815482</td>\n",
       "      <td>2048134200</td>\n",
       "      <td>1748134200</td>\n",
       "      <td>Avengers: Infinity War</td>\n",
       "      <td>Avengers: Infinity War</td>\n",
       "      <td>2018.0</td>\n",
       "      <td>149.0</td>\n",
       "      <td>Action,Adventure,Sci-Fi</td>\n",
       "      <td>[Action, Adventure, Sci-Fi]</td>\n",
       "      <td>Action</td>\n",
       "    </tr>\n",
       "  </tbody>\n",
       "</table>\n",
       "</div>"
      ],
      "text/plain": [
       "   release_date                                        movie  \\\n",
       "0  Dec 18, 2009                                       Avatar   \n",
       "1  May 20, 2011  Pirates of the Caribbean: On Stranger Tides   \n",
       "2   Jun 7, 2019                                 Dark Phoenix   \n",
       "3   May 1, 2015                      Avengers: Age of Ultron   \n",
       "6  Apr 27, 2018                       Avengers: Infinity War   \n",
       "\n",
       "   production_budget  domestic_gross  worldwide_gross  difference  \\\n",
       "0          425000000       760507625       2776345279  2351345279   \n",
       "1          410600000       241063875       1045663875   635063875   \n",
       "2          350000000        42762350        149762350  -200237650   \n",
       "3          330600000       459005868       1403013963  1072413963   \n",
       "6          300000000       678815482       2048134200  1748134200   \n",
       "\n",
       "                                 primary_title  \\\n",
       "0                                       Avatar   \n",
       "1  Pirates of the Caribbean: On Stranger Tides   \n",
       "2                                 Dark Phoenix   \n",
       "3                      Avengers: Age of Ultron   \n",
       "6                       Avengers: Infinity War   \n",
       "\n",
       "                                original_title  start_year  runtime_minutes  \\\n",
       "0                                        Abatâ      2011.0             93.0   \n",
       "1  Pirates of the Caribbean: On Stranger Tides      2011.0            136.0   \n",
       "2                                 Dark Phoenix      2019.0            113.0   \n",
       "3                      Avengers: Age of Ultron      2015.0            141.0   \n",
       "6                       Avengers: Infinity War      2018.0            149.0   \n",
       "\n",
       "                     genres                  genres_split  genre1  \n",
       "0                    Horror                      [Horror]  Horror  \n",
       "1  Action,Adventure,Fantasy  [Action, Adventure, Fantasy]  Action  \n",
       "2   Action,Adventure,Sci-Fi   [Action, Adventure, Sci-Fi]  Action  \n",
       "3   Action,Adventure,Sci-Fi   [Action, Adventure, Sci-Fi]  Action  \n",
       "6   Action,Adventure,Sci-Fi   [Action, Adventure, Sci-Fi]  Action  "
      ]
     },
     "execution_count": 40,
     "metadata": {},
     "output_type": "execute_result"
    }
   ],
   "source": [
    "movie_details_df.head()"
   ]
  },
  {
   "cell_type": "code",
   "execution_count": 41,
   "metadata": {
    "ExecuteTime": {
     "end_time": "2020-12-03T19:36:28.711257Z",
     "start_time": "2020-12-03T19:36:28.708919Z"
    }
   },
   "outputs": [],
   "source": [
    "y  = \"NA\""
   ]
  },
  {
   "cell_type": "code",
   "execution_count": 42,
   "metadata": {
    "ExecuteTime": {
     "end_time": "2020-12-03T19:36:28.717557Z",
     "start_time": "2020-12-03T19:36:28.712825Z"
    }
   },
   "outputs": [],
   "source": [
    "movie_details_df['genre2'] = movie_details_df['genres_split'].map(lambda x: y if len(x) < 2 else x[1])"
   ]
  },
  {
   "cell_type": "code",
   "execution_count": 43,
   "metadata": {
    "ExecuteTime": {
     "end_time": "2020-12-03T19:36:28.735318Z",
     "start_time": "2020-12-03T19:36:28.718914Z"
    }
   },
   "outputs": [
    {
     "data": {
      "text/html": [
       "<div>\n",
       "<style scoped>\n",
       "    .dataframe tbody tr th:only-of-type {\n",
       "        vertical-align: middle;\n",
       "    }\n",
       "\n",
       "    .dataframe tbody tr th {\n",
       "        vertical-align: top;\n",
       "    }\n",
       "\n",
       "    .dataframe thead th {\n",
       "        text-align: right;\n",
       "    }\n",
       "</style>\n",
       "<table border=\"1\" class=\"dataframe\">\n",
       "  <thead>\n",
       "    <tr style=\"text-align: right;\">\n",
       "      <th></th>\n",
       "      <th>release_date</th>\n",
       "      <th>movie</th>\n",
       "      <th>production_budget</th>\n",
       "      <th>domestic_gross</th>\n",
       "      <th>worldwide_gross</th>\n",
       "      <th>difference</th>\n",
       "      <th>primary_title</th>\n",
       "      <th>original_title</th>\n",
       "      <th>start_year</th>\n",
       "      <th>runtime_minutes</th>\n",
       "      <th>genres</th>\n",
       "      <th>genres_split</th>\n",
       "      <th>genre1</th>\n",
       "      <th>genre2</th>\n",
       "    </tr>\n",
       "  </thead>\n",
       "  <tbody>\n",
       "    <tr>\n",
       "      <th>0</th>\n",
       "      <td>Dec 18, 2009</td>\n",
       "      <td>Avatar</td>\n",
       "      <td>425000000</td>\n",
       "      <td>760507625</td>\n",
       "      <td>2776345279</td>\n",
       "      <td>2351345279</td>\n",
       "      <td>Avatar</td>\n",
       "      <td>Abatâ</td>\n",
       "      <td>2011.0</td>\n",
       "      <td>93.0</td>\n",
       "      <td>Horror</td>\n",
       "      <td>[Horror]</td>\n",
       "      <td>Horror</td>\n",
       "      <td>NA</td>\n",
       "    </tr>\n",
       "    <tr>\n",
       "      <th>1</th>\n",
       "      <td>May 20, 2011</td>\n",
       "      <td>Pirates of the Caribbean: On Stranger Tides</td>\n",
       "      <td>410600000</td>\n",
       "      <td>241063875</td>\n",
       "      <td>1045663875</td>\n",
       "      <td>635063875</td>\n",
       "      <td>Pirates of the Caribbean: On Stranger Tides</td>\n",
       "      <td>Pirates of the Caribbean: On Stranger Tides</td>\n",
       "      <td>2011.0</td>\n",
       "      <td>136.0</td>\n",
       "      <td>Action,Adventure,Fantasy</td>\n",
       "      <td>[Action, Adventure, Fantasy]</td>\n",
       "      <td>Action</td>\n",
       "      <td>Adventure</td>\n",
       "    </tr>\n",
       "    <tr>\n",
       "      <th>2</th>\n",
       "      <td>Jun 7, 2019</td>\n",
       "      <td>Dark Phoenix</td>\n",
       "      <td>350000000</td>\n",
       "      <td>42762350</td>\n",
       "      <td>149762350</td>\n",
       "      <td>-200237650</td>\n",
       "      <td>Dark Phoenix</td>\n",
       "      <td>Dark Phoenix</td>\n",
       "      <td>2019.0</td>\n",
       "      <td>113.0</td>\n",
       "      <td>Action,Adventure,Sci-Fi</td>\n",
       "      <td>[Action, Adventure, Sci-Fi]</td>\n",
       "      <td>Action</td>\n",
       "      <td>Adventure</td>\n",
       "    </tr>\n",
       "    <tr>\n",
       "      <th>3</th>\n",
       "      <td>May 1, 2015</td>\n",
       "      <td>Avengers: Age of Ultron</td>\n",
       "      <td>330600000</td>\n",
       "      <td>459005868</td>\n",
       "      <td>1403013963</td>\n",
       "      <td>1072413963</td>\n",
       "      <td>Avengers: Age of Ultron</td>\n",
       "      <td>Avengers: Age of Ultron</td>\n",
       "      <td>2015.0</td>\n",
       "      <td>141.0</td>\n",
       "      <td>Action,Adventure,Sci-Fi</td>\n",
       "      <td>[Action, Adventure, Sci-Fi]</td>\n",
       "      <td>Action</td>\n",
       "      <td>Adventure</td>\n",
       "    </tr>\n",
       "    <tr>\n",
       "      <th>6</th>\n",
       "      <td>Apr 27, 2018</td>\n",
       "      <td>Avengers: Infinity War</td>\n",
       "      <td>300000000</td>\n",
       "      <td>678815482</td>\n",
       "      <td>2048134200</td>\n",
       "      <td>1748134200</td>\n",
       "      <td>Avengers: Infinity War</td>\n",
       "      <td>Avengers: Infinity War</td>\n",
       "      <td>2018.0</td>\n",
       "      <td>149.0</td>\n",
       "      <td>Action,Adventure,Sci-Fi</td>\n",
       "      <td>[Action, Adventure, Sci-Fi]</td>\n",
       "      <td>Action</td>\n",
       "      <td>Adventure</td>\n",
       "    </tr>\n",
       "  </tbody>\n",
       "</table>\n",
       "</div>"
      ],
      "text/plain": [
       "   release_date                                        movie  \\\n",
       "0  Dec 18, 2009                                       Avatar   \n",
       "1  May 20, 2011  Pirates of the Caribbean: On Stranger Tides   \n",
       "2   Jun 7, 2019                                 Dark Phoenix   \n",
       "3   May 1, 2015                      Avengers: Age of Ultron   \n",
       "6  Apr 27, 2018                       Avengers: Infinity War   \n",
       "\n",
       "   production_budget  domestic_gross  worldwide_gross  difference  \\\n",
       "0          425000000       760507625       2776345279  2351345279   \n",
       "1          410600000       241063875       1045663875   635063875   \n",
       "2          350000000        42762350        149762350  -200237650   \n",
       "3          330600000       459005868       1403013963  1072413963   \n",
       "6          300000000       678815482       2048134200  1748134200   \n",
       "\n",
       "                                 primary_title  \\\n",
       "0                                       Avatar   \n",
       "1  Pirates of the Caribbean: On Stranger Tides   \n",
       "2                                 Dark Phoenix   \n",
       "3                      Avengers: Age of Ultron   \n",
       "6                       Avengers: Infinity War   \n",
       "\n",
       "                                original_title  start_year  runtime_minutes  \\\n",
       "0                                        Abatâ      2011.0             93.0   \n",
       "1  Pirates of the Caribbean: On Stranger Tides      2011.0            136.0   \n",
       "2                                 Dark Phoenix      2019.0            113.0   \n",
       "3                      Avengers: Age of Ultron      2015.0            141.0   \n",
       "6                       Avengers: Infinity War      2018.0            149.0   \n",
       "\n",
       "                     genres                  genres_split  genre1     genre2  \n",
       "0                    Horror                      [Horror]  Horror         NA  \n",
       "1  Action,Adventure,Fantasy  [Action, Adventure, Fantasy]  Action  Adventure  \n",
       "2   Action,Adventure,Sci-Fi   [Action, Adventure, Sci-Fi]  Action  Adventure  \n",
       "3   Action,Adventure,Sci-Fi   [Action, Adventure, Sci-Fi]  Action  Adventure  \n",
       "6   Action,Adventure,Sci-Fi   [Action, Adventure, Sci-Fi]  Action  Adventure  "
      ]
     },
     "execution_count": 43,
     "metadata": {},
     "output_type": "execute_result"
    }
   ],
   "source": [
    "movie_details_df.head()"
   ]
  },
  {
   "cell_type": "code",
   "execution_count": 44,
   "metadata": {
    "ExecuteTime": {
     "end_time": "2020-12-03T19:36:28.743882Z",
     "start_time": "2020-12-03T19:36:28.737465Z"
    }
   },
   "outputs": [],
   "source": [
    "movie_details_df.drop(columns=['genres', 'genres_split'], inplace = True)"
   ]
  },
  {
   "cell_type": "code",
   "execution_count": 45,
   "metadata": {
    "ExecuteTime": {
     "end_time": "2020-12-03T19:36:28.755917Z",
     "start_time": "2020-12-03T19:36:28.745805Z"
    }
   },
   "outputs": [
    {
     "name": "stdout",
     "output_type": "stream",
     "text": [
      "<class 'pandas.core.frame.DataFrame'>\n",
      "Int64Index: 3309 entries, 0 to 7219\n",
      "Data columns (total 12 columns):\n",
      "release_date         3309 non-null object\n",
      "movie                3309 non-null object\n",
      "production_budget    3309 non-null int64\n",
      "domestic_gross       3309 non-null int64\n",
      "worldwide_gross      3309 non-null int64\n",
      "difference           3309 non-null int64\n",
      "primary_title        3309 non-null object\n",
      "original_title       3309 non-null object\n",
      "start_year           3309 non-null float64\n",
      "runtime_minutes      3309 non-null float64\n",
      "genre1               3309 non-null object\n",
      "genre2               3309 non-null object\n",
      "dtypes: float64(2), int64(4), object(6)\n",
      "memory usage: 496.1+ KB\n"
     ]
    }
   ],
   "source": [
    "movie_details_df.info()"
   ]
  },
  {
   "cell_type": "code",
   "execution_count": 46,
   "metadata": {
    "ExecuteTime": {
     "end_time": "2020-12-03T19:36:28.774879Z",
     "start_time": "2020-12-03T19:36:28.758616Z"
    }
   },
   "outputs": [
    {
     "data": {
      "text/html": [
       "<div>\n",
       "<style scoped>\n",
       "    .dataframe tbody tr th:only-of-type {\n",
       "        vertical-align: middle;\n",
       "    }\n",
       "\n",
       "    .dataframe tbody tr th {\n",
       "        vertical-align: top;\n",
       "    }\n",
       "\n",
       "    .dataframe thead th {\n",
       "        text-align: right;\n",
       "    }\n",
       "</style>\n",
       "<table border=\"1\" class=\"dataframe\">\n",
       "  <thead>\n",
       "    <tr style=\"text-align: right;\">\n",
       "      <th></th>\n",
       "      <th>release_date</th>\n",
       "      <th>movie</th>\n",
       "      <th>production_budget</th>\n",
       "      <th>domestic_gross</th>\n",
       "      <th>worldwide_gross</th>\n",
       "      <th>difference</th>\n",
       "      <th>primary_title</th>\n",
       "      <th>original_title</th>\n",
       "      <th>start_year</th>\n",
       "      <th>runtime_minutes</th>\n",
       "      <th>genre1</th>\n",
       "      <th>genre2</th>\n",
       "    </tr>\n",
       "  </thead>\n",
       "  <tbody>\n",
       "    <tr>\n",
       "      <th>0</th>\n",
       "      <td>Dec 18, 2009</td>\n",
       "      <td>Avatar</td>\n",
       "      <td>425000000</td>\n",
       "      <td>760507625</td>\n",
       "      <td>2776345279</td>\n",
       "      <td>2351345279</td>\n",
       "      <td>Avatar</td>\n",
       "      <td>Abatâ</td>\n",
       "      <td>2011.0</td>\n",
       "      <td>93.0</td>\n",
       "      <td>Horror</td>\n",
       "      <td>NA</td>\n",
       "    </tr>\n",
       "    <tr>\n",
       "      <th>1</th>\n",
       "      <td>May 20, 2011</td>\n",
       "      <td>Pirates of the Caribbean: On Stranger Tides</td>\n",
       "      <td>410600000</td>\n",
       "      <td>241063875</td>\n",
       "      <td>1045663875</td>\n",
       "      <td>635063875</td>\n",
       "      <td>Pirates of the Caribbean: On Stranger Tides</td>\n",
       "      <td>Pirates of the Caribbean: On Stranger Tides</td>\n",
       "      <td>2011.0</td>\n",
       "      <td>136.0</td>\n",
       "      <td>Action</td>\n",
       "      <td>Adventure</td>\n",
       "    </tr>\n",
       "    <tr>\n",
       "      <th>2</th>\n",
       "      <td>Jun 7, 2019</td>\n",
       "      <td>Dark Phoenix</td>\n",
       "      <td>350000000</td>\n",
       "      <td>42762350</td>\n",
       "      <td>149762350</td>\n",
       "      <td>-200237650</td>\n",
       "      <td>Dark Phoenix</td>\n",
       "      <td>Dark Phoenix</td>\n",
       "      <td>2019.0</td>\n",
       "      <td>113.0</td>\n",
       "      <td>Action</td>\n",
       "      <td>Adventure</td>\n",
       "    </tr>\n",
       "    <tr>\n",
       "      <th>3</th>\n",
       "      <td>May 1, 2015</td>\n",
       "      <td>Avengers: Age of Ultron</td>\n",
       "      <td>330600000</td>\n",
       "      <td>459005868</td>\n",
       "      <td>1403013963</td>\n",
       "      <td>1072413963</td>\n",
       "      <td>Avengers: Age of Ultron</td>\n",
       "      <td>Avengers: Age of Ultron</td>\n",
       "      <td>2015.0</td>\n",
       "      <td>141.0</td>\n",
       "      <td>Action</td>\n",
       "      <td>Adventure</td>\n",
       "    </tr>\n",
       "    <tr>\n",
       "      <th>6</th>\n",
       "      <td>Apr 27, 2018</td>\n",
       "      <td>Avengers: Infinity War</td>\n",
       "      <td>300000000</td>\n",
       "      <td>678815482</td>\n",
       "      <td>2048134200</td>\n",
       "      <td>1748134200</td>\n",
       "      <td>Avengers: Infinity War</td>\n",
       "      <td>Avengers: Infinity War</td>\n",
       "      <td>2018.0</td>\n",
       "      <td>149.0</td>\n",
       "      <td>Action</td>\n",
       "      <td>Adventure</td>\n",
       "    </tr>\n",
       "  </tbody>\n",
       "</table>\n",
       "</div>"
      ],
      "text/plain": [
       "   release_date                                        movie  \\\n",
       "0  Dec 18, 2009                                       Avatar   \n",
       "1  May 20, 2011  Pirates of the Caribbean: On Stranger Tides   \n",
       "2   Jun 7, 2019                                 Dark Phoenix   \n",
       "3   May 1, 2015                      Avengers: Age of Ultron   \n",
       "6  Apr 27, 2018                       Avengers: Infinity War   \n",
       "\n",
       "   production_budget  domestic_gross  worldwide_gross  difference  \\\n",
       "0          425000000       760507625       2776345279  2351345279   \n",
       "1          410600000       241063875       1045663875   635063875   \n",
       "2          350000000        42762350        149762350  -200237650   \n",
       "3          330600000       459005868       1403013963  1072413963   \n",
       "6          300000000       678815482       2048134200  1748134200   \n",
       "\n",
       "                                 primary_title  \\\n",
       "0                                       Avatar   \n",
       "1  Pirates of the Caribbean: On Stranger Tides   \n",
       "2                                 Dark Phoenix   \n",
       "3                      Avengers: Age of Ultron   \n",
       "6                       Avengers: Infinity War   \n",
       "\n",
       "                                original_title  start_year  runtime_minutes  \\\n",
       "0                                        Abatâ      2011.0             93.0   \n",
       "1  Pirates of the Caribbean: On Stranger Tides      2011.0            136.0   \n",
       "2                                 Dark Phoenix      2019.0            113.0   \n",
       "3                      Avengers: Age of Ultron      2015.0            141.0   \n",
       "6                       Avengers: Infinity War      2018.0            149.0   \n",
       "\n",
       "   genre1     genre2  \n",
       "0  Horror         NA  \n",
       "1  Action  Adventure  \n",
       "2  Action  Adventure  \n",
       "3  Action  Adventure  \n",
       "6  Action  Adventure  "
      ]
     },
     "execution_count": 46,
     "metadata": {},
     "output_type": "execute_result"
    }
   ],
   "source": [
    "movie_details_df.head()"
   ]
  },
  {
   "cell_type": "code",
   "execution_count": 47,
   "metadata": {
    "ExecuteTime": {
     "end_time": "2020-12-03T19:36:28.781804Z",
     "start_time": "2020-12-03T19:36:28.777412Z"
    }
   },
   "outputs": [],
   "source": [
    "movie_details_df.drop(columns=['primary_title', 'original_title', 'start_year'], inplace=True)"
   ]
  },
  {
   "cell_type": "code",
   "execution_count": 48,
   "metadata": {
    "ExecuteTime": {
     "end_time": "2020-12-03T19:36:28.792920Z",
     "start_time": "2020-12-03T19:36:28.783169Z"
    }
   },
   "outputs": [
    {
     "name": "stdout",
     "output_type": "stream",
     "text": [
      "<class 'pandas.core.frame.DataFrame'>\n",
      "Int64Index: 3309 entries, 0 to 7219\n",
      "Data columns (total 9 columns):\n",
      "release_date         3309 non-null object\n",
      "movie                3309 non-null object\n",
      "production_budget    3309 non-null int64\n",
      "domestic_gross       3309 non-null int64\n",
      "worldwide_gross      3309 non-null int64\n",
      "difference           3309 non-null int64\n",
      "runtime_minutes      3309 non-null float64\n",
      "genre1               3309 non-null object\n",
      "genre2               3309 non-null object\n",
      "dtypes: float64(1), int64(4), object(4)\n",
      "memory usage: 418.5+ KB\n"
     ]
    }
   ],
   "source": [
    "movie_details_df.info()"
   ]
  },
  {
   "cell_type": "code",
   "execution_count": 49,
   "metadata": {
    "ExecuteTime": {
     "end_time": "2020-12-03T19:36:28.808265Z",
     "start_time": "2020-12-03T19:36:28.794552Z"
    }
   },
   "outputs": [
    {
     "data": {
      "text/html": [
       "<div>\n",
       "<style scoped>\n",
       "    .dataframe tbody tr th:only-of-type {\n",
       "        vertical-align: middle;\n",
       "    }\n",
       "\n",
       "    .dataframe tbody tr th {\n",
       "        vertical-align: top;\n",
       "    }\n",
       "\n",
       "    .dataframe thead th {\n",
       "        text-align: right;\n",
       "    }\n",
       "</style>\n",
       "<table border=\"1\" class=\"dataframe\">\n",
       "  <thead>\n",
       "    <tr style=\"text-align: right;\">\n",
       "      <th></th>\n",
       "      <th>release_date</th>\n",
       "      <th>movie</th>\n",
       "      <th>production_budget</th>\n",
       "      <th>domestic_gross</th>\n",
       "      <th>worldwide_gross</th>\n",
       "      <th>difference</th>\n",
       "      <th>runtime_minutes</th>\n",
       "      <th>genre1</th>\n",
       "      <th>genre2</th>\n",
       "    </tr>\n",
       "  </thead>\n",
       "  <tbody>\n",
       "    <tr>\n",
       "      <th>0</th>\n",
       "      <td>Dec 18, 2009</td>\n",
       "      <td>Avatar</td>\n",
       "      <td>425000000</td>\n",
       "      <td>760507625</td>\n",
       "      <td>2776345279</td>\n",
       "      <td>2351345279</td>\n",
       "      <td>93.0</td>\n",
       "      <td>Horror</td>\n",
       "      <td>NA</td>\n",
       "    </tr>\n",
       "    <tr>\n",
       "      <th>1</th>\n",
       "      <td>May 20, 2011</td>\n",
       "      <td>Pirates of the Caribbean: On Stranger Tides</td>\n",
       "      <td>410600000</td>\n",
       "      <td>241063875</td>\n",
       "      <td>1045663875</td>\n",
       "      <td>635063875</td>\n",
       "      <td>136.0</td>\n",
       "      <td>Action</td>\n",
       "      <td>Adventure</td>\n",
       "    </tr>\n",
       "    <tr>\n",
       "      <th>2</th>\n",
       "      <td>Jun 7, 2019</td>\n",
       "      <td>Dark Phoenix</td>\n",
       "      <td>350000000</td>\n",
       "      <td>42762350</td>\n",
       "      <td>149762350</td>\n",
       "      <td>-200237650</td>\n",
       "      <td>113.0</td>\n",
       "      <td>Action</td>\n",
       "      <td>Adventure</td>\n",
       "    </tr>\n",
       "    <tr>\n",
       "      <th>3</th>\n",
       "      <td>May 1, 2015</td>\n",
       "      <td>Avengers: Age of Ultron</td>\n",
       "      <td>330600000</td>\n",
       "      <td>459005868</td>\n",
       "      <td>1403013963</td>\n",
       "      <td>1072413963</td>\n",
       "      <td>141.0</td>\n",
       "      <td>Action</td>\n",
       "      <td>Adventure</td>\n",
       "    </tr>\n",
       "    <tr>\n",
       "      <th>6</th>\n",
       "      <td>Apr 27, 2018</td>\n",
       "      <td>Avengers: Infinity War</td>\n",
       "      <td>300000000</td>\n",
       "      <td>678815482</td>\n",
       "      <td>2048134200</td>\n",
       "      <td>1748134200</td>\n",
       "      <td>149.0</td>\n",
       "      <td>Action</td>\n",
       "      <td>Adventure</td>\n",
       "    </tr>\n",
       "  </tbody>\n",
       "</table>\n",
       "</div>"
      ],
      "text/plain": [
       "   release_date                                        movie  \\\n",
       "0  Dec 18, 2009                                       Avatar   \n",
       "1  May 20, 2011  Pirates of the Caribbean: On Stranger Tides   \n",
       "2   Jun 7, 2019                                 Dark Phoenix   \n",
       "3   May 1, 2015                      Avengers: Age of Ultron   \n",
       "6  Apr 27, 2018                       Avengers: Infinity War   \n",
       "\n",
       "   production_budget  domestic_gross  worldwide_gross  difference  \\\n",
       "0          425000000       760507625       2776345279  2351345279   \n",
       "1          410600000       241063875       1045663875   635063875   \n",
       "2          350000000        42762350        149762350  -200237650   \n",
       "3          330600000       459005868       1403013963  1072413963   \n",
       "6          300000000       678815482       2048134200  1748134200   \n",
       "\n",
       "   runtime_minutes  genre1     genre2  \n",
       "0             93.0  Horror         NA  \n",
       "1            136.0  Action  Adventure  \n",
       "2            113.0  Action  Adventure  \n",
       "3            141.0  Action  Adventure  \n",
       "6            149.0  Action  Adventure  "
      ]
     },
     "execution_count": 49,
     "metadata": {},
     "output_type": "execute_result"
    }
   ],
   "source": [
    "movie_details_df.head()"
   ]
  },
  {
   "cell_type": "code",
   "execution_count": 50,
   "metadata": {
    "ExecuteTime": {
     "end_time": "2020-12-03T19:36:28.816121Z",
     "start_time": "2020-12-03T19:36:28.810656Z"
    }
   },
   "outputs": [
    {
     "data": {
      "text/plain": [
       "release_date         0\n",
       "movie                0\n",
       "production_budget    0\n",
       "domestic_gross       0\n",
       "worldwide_gross      0\n",
       "difference           0\n",
       "runtime_minutes      0\n",
       "genre1               0\n",
       "genre2               0\n",
       "dtype: int64"
      ]
     },
     "execution_count": 50,
     "metadata": {},
     "output_type": "execute_result"
    }
   ],
   "source": [
    "movie_details_df.isna().sum()"
   ]
  },
  {
   "cell_type": "code",
   "execution_count": 51,
   "metadata": {
    "ExecuteTime": {
     "end_time": "2020-12-03T19:36:28.851991Z",
     "start_time": "2020-12-03T19:36:28.818214Z"
    }
   },
   "outputs": [
    {
     "name": "stdout",
     "output_type": "stream",
     "text": [
      "Currently checking values from col: release_date\n",
      "Top 5 values:\n",
      "Mar 27, 2015    0.007555\n",
      "Jun 5, 2009     0.006649\n",
      "Apr 23, 2009    0.006649\n",
      "Feb 6, 2004     0.005742\n",
      "Dec 31, 2012    0.005440\n",
      "Name: release_date, dtype: float64\n",
      "------------------------------\n",
      "Currently checking values from col: movie\n",
      "Top 5 values:\n",
      "Home          0.019946\n",
      "The Gift      0.005440\n",
      "Brothers      0.005440\n",
      "The Return    0.004533\n",
      "The Island    0.004231\n",
      "Name: movie, dtype: float64\n",
      "------------------------------\n",
      "Currently checking values from col: production_budget\n",
      "Top 5 values:\n",
      "10000000    0.036869\n",
      "20000000    0.036567\n",
      "5000000     0.032336\n",
      "25000000    0.032034\n",
      "15000000    0.031732\n",
      "Name: production_budget, dtype: float64\n",
      "------------------------------\n",
      "Currently checking values from col: domestic_gross\n",
      "Top 5 values:\n",
      "0            0.137806\n",
      "177397510    0.006649\n",
      "15433        0.006649\n",
      "501752       0.004533\n",
      "656688       0.002720\n",
      "Name: domestic_gross, dtype: float64\n",
      "------------------------------\n",
      "Currently checking values from col: worldwide_gross\n",
      "Top 5 values:\n",
      "0            0.095799\n",
      "44793168     0.006649\n",
      "385997896    0.006649\n",
      "5953886      0.004533\n",
      "58978477     0.002720\n",
      "Name: worldwide_gross, dtype: float64\n",
      "------------------------------\n",
      "Currently checking values from col: difference\n",
      "Top 5 values:\n",
      "-12000000     0.007253\n",
      " 44293168     0.006649\n",
      " 255997896    0.006649\n",
      "-2000000      0.006044\n",
      "-1000000      0.006044\n",
      "Name: difference, dtype: float64\n",
      "------------------------------\n",
      "Currently checking values from col: runtime_minutes\n",
      "Top 5 values:\n",
      "90.0     0.046842\n",
      "100.0    0.029012\n",
      "95.0     0.024781\n",
      "92.0     0.024479\n",
      "93.0     0.024176\n",
      "           ...   \n",
      "131.0    0.003626\n",
      "76.0     0.003626\n",
      "140.0    0.003626\n",
      "73.0     0.003626\n",
      "5.0      0.003324\n",
      "Name: runtime_minutes, Length: 72, dtype: float64\n",
      "------------------------------\n",
      "Currently checking values from col: genre1\n",
      "Top 5 values:\n",
      "Drama          0.246298\n",
      "Action         0.195527\n",
      "Comedy         0.158658\n",
      "Documentary    0.102750\n",
      "Adventure      0.070414\n",
      "Name: genre1, dtype: float64\n",
      "------------------------------\n",
      "Currently checking values from col: genre2\n",
      "Top 5 values:\n",
      "NA           0.292838\n",
      "Drama        0.185252\n",
      "Adventure    0.071321\n",
      "Thriller     0.052886\n",
      "Romance      0.051979\n",
      "Name: genre2, dtype: float64\n",
      "------------------------------\n"
     ]
    }
   ],
   "source": [
    "for col in movie_details_df:\n",
    "    print(f\"Currently checking values from col: {col}\")\n",
    "    print(f\"Top 5 values:\\n{movie_details_df[col].value_counts(normalize = True)[:5]}\")\n",
    "    print(\"------------------------------\")"
   ]
  },
  {
   "cell_type": "code",
   "execution_count": null,
   "metadata": {},
   "outputs": [],
   "source": []
  },
  {
   "cell_type": "code",
   "execution_count": 52,
   "metadata": {
    "ExecuteTime": {
     "end_time": "2020-12-03T19:36:29.038573Z",
     "start_time": "2020-12-03T19:36:28.858340Z"
    }
   },
   "outputs": [
    {
     "data": {
      "text/plain": [
       "<matplotlib.axes._subplots.AxesSubplot at 0x136ec1358>"
      ]
     },
     "execution_count": 52,
     "metadata": {},
     "output_type": "execute_result"
    },
    {
     "data": {
      "image/png": "[encoded data removed]",
      "text/plain": [
       "<Figure size 432x288 with 1 Axes>"
      ]
     },
     "metadata": {
      "needs_background": "light"
     },
     "output_type": "display_data"
    }
   ],
   "source": [
    "sns.scatterplot(x = 'movie', y = 'difference', data = movie_details_df.sort_values(by = 'difference', ascending = False)[:10])"
   ]
  },
  {
   "cell_type": "code",
   "execution_count": 53,
   "metadata": {
    "ExecuteTime": {
     "end_time": "2020-12-03T19:36:29.047298Z",
     "start_time": "2020-12-03T19:36:29.040511Z"
    }
   },
   "outputs": [],
   "source": [
    "movies_by_genre = movie_details_df.groupby(by = ['genre1']).sum()"
   ]
  },
  {
   "cell_type": "code",
   "execution_count": 54,
   "metadata": {
    "ExecuteTime": {
     "end_time": "2020-12-03T19:36:29.180138Z",
     "start_time": "2020-12-03T19:36:29.048836Z"
    }
   },
   "outputs": [
    {
     "ename": "AttributeError",
     "evalue": "'NoneType' object has no attribute 'head'",
     "output_type": "error",
     "traceback": [
      "\u001b[0;31m---------------------------------------------------------------------------\u001b[0m",
      "\u001b[0;31mAttributeError\u001b[0m                            Traceback (most recent call last)",
      "\u001b[0;32m<ipython-input-54-c202271cf5d0>\u001b[0m in \u001b[0;36m<module>\u001b[0;34m\u001b[0m\n\u001b[0;32m----> 1\u001b[0;31m \u001b[0mmovies_by_genre\u001b[0m\u001b[0;34m.\u001b[0m\u001b[0mreset_index\u001b[0m\u001b[0;34m(\u001b[0m\u001b[0minplace\u001b[0m\u001b[0;34m=\u001b[0m\u001b[0;32mTrue\u001b[0m\u001b[0;34m)\u001b[0m\u001b[0;34m.\u001b[0m\u001b[0mhead\u001b[0m\u001b[0;34m(\u001b[0m\u001b[0;34m)\u001b[0m\u001b[0;34m\u001b[0m\u001b[0;34m\u001b[0m\u001b[0m\n\u001b[0m",
      "\u001b[0;31mAttributeError\u001b[0m: 'NoneType' object has no attribute 'head'"
     ]
    }
   ],
   "source": [
    "movies_by_genre.reset_index(inplace=True).head()"
   ]
  },
  {
   "cell_type": "code",
   "execution_count": 55,
   "metadata": {
    "ExecuteTime": {
     "end_time": "2020-12-03T19:36:38.818055Z",
     "start_time": "2020-12-03T19:36:38.527611Z"
    }
   },
   "outputs": [
    {
     "data": {
      "text/plain": [
       "<matplotlib.axes._subplots.AxesSubplot at 0x13710be10>"
      ]
     },
     "execution_count": 55,
     "metadata": {},
     "output_type": "execute_result"
    },
    {
     "data": {
      "image/png": "[encoded data removed]",
      "text/plain": [
       "<Figure size 864x648 with 1 Axes>"
      ]
     },
     "metadata": {
      "needs_background": "light"
     },
     "output_type": "display_data"
    }
   ],
   "source": [
    "plt.figure(figsize = (12,9))\n",
    "sns.barplot(x = 'difference', y = 'genre1', data = movies_by_genre, palette = 'Blues_d')"
   ]
  },
  {
   "cell_type": "code",
   "execution_count": null,
   "metadata": {
    "ExecuteTime": {
     "end_time": "2020-12-03T19:36:38.832720Z",
     "start_time": "2020-12-03T19:36:38.748Z"
    }
   },
   "outputs": [],
   "source": [
    "movie_details_df.info()"
   ]
  },
  {
   "cell_type": "code",
   "execution_count": 56,
   "metadata": {
    "ExecuteTime": {
     "end_time": "2020-12-03T19:36:39.112094Z",
     "start_time": "2020-12-03T19:36:39.109705Z"
    }
   },
   "outputs": [],
   "source": [
    "df2 = movie_details_df.groupby('genre1')"
   ]
  },
  {
   "cell_type": "code",
   "execution_count": 57,
   "metadata": {
    "ExecuteTime": {
     "end_time": "2020-12-03T19:36:39.446155Z",
     "start_time": "2020-12-03T19:36:39.442366Z"
    }
   },
   "outputs": [],
   "source": [
    "movie_details_df['roi'] = (movie_details_df['difference'] / movie_details_df['production_budget']) * 100"
   ]
  },
  {
   "cell_type": "code",
   "execution_count": 58,
   "metadata": {
    "ExecuteTime": {
     "end_time": "2020-12-03T19:36:39.809056Z",
     "start_time": "2020-12-03T19:36:39.806545Z"
    }
   },
   "outputs": [],
   "source": [
    "movie_details_df['roi'] = movie_details_df['roi'].round()"
   ]
  },
  {
   "cell_type": "code",
   "execution_count": 59,
   "metadata": {
    "ExecuteTime": {
     "end_time": "2020-12-03T19:36:40.162350Z",
     "start_time": "2020-12-03T19:36:40.149166Z"
    }
   },
   "outputs": [
    {
     "data": {
      "text/html": [
       "<div>\n",
       "<style scoped>\n",
       "    .dataframe tbody tr th:only-of-type {\n",
       "        vertical-align: middle;\n",
       "    }\n",
       "\n",
       "    .dataframe tbody tr th {\n",
       "        vertical-align: top;\n",
       "    }\n",
       "\n",
       "    .dataframe thead th {\n",
       "        text-align: right;\n",
       "    }\n",
       "</style>\n",
       "<table border=\"1\" class=\"dataframe\">\n",
       "  <thead>\n",
       "    <tr style=\"text-align: right;\">\n",
       "      <th></th>\n",
       "      <th>release_date</th>\n",
       "      <th>movie</th>\n",
       "      <th>production_budget</th>\n",
       "      <th>domestic_gross</th>\n",
       "      <th>worldwide_gross</th>\n",
       "      <th>difference</th>\n",
       "      <th>runtime_minutes</th>\n",
       "      <th>genre1</th>\n",
       "      <th>genre2</th>\n",
       "      <th>roi</th>\n",
       "    </tr>\n",
       "  </thead>\n",
       "  <tbody>\n",
       "    <tr>\n",
       "      <th>0</th>\n",
       "      <td>Dec 18, 2009</td>\n",
       "      <td>Avatar</td>\n",
       "      <td>425000000</td>\n",
       "      <td>760507625</td>\n",
       "      <td>2776345279</td>\n",
       "      <td>2351345279</td>\n",
       "      <td>93.0</td>\n",
       "      <td>Horror</td>\n",
       "      <td>NA</td>\n",
       "      <td>553.0</td>\n",
       "    </tr>\n",
       "    <tr>\n",
       "      <th>1</th>\n",
       "      <td>May 20, 2011</td>\n",
       "      <td>Pirates of the Caribbean: On Stranger Tides</td>\n",
       "      <td>410600000</td>\n",
       "      <td>241063875</td>\n",
       "      <td>1045663875</td>\n",
       "      <td>635063875</td>\n",
       "      <td>136.0</td>\n",
       "      <td>Action</td>\n",
       "      <td>Adventure</td>\n",
       "      <td>155.0</td>\n",
       "    </tr>\n",
       "    <tr>\n",
       "      <th>2</th>\n",
       "      <td>Jun 7, 2019</td>\n",
       "      <td>Dark Phoenix</td>\n",
       "      <td>350000000</td>\n",
       "      <td>42762350</td>\n",
       "      <td>149762350</td>\n",
       "      <td>-200237650</td>\n",
       "      <td>113.0</td>\n",
       "      <td>Action</td>\n",
       "      <td>Adventure</td>\n",
       "      <td>-57.0</td>\n",
       "    </tr>\n",
       "    <tr>\n",
       "      <th>3</th>\n",
       "      <td>May 1, 2015</td>\n",
       "      <td>Avengers: Age of Ultron</td>\n",
       "      <td>330600000</td>\n",
       "      <td>459005868</td>\n",
       "      <td>1403013963</td>\n",
       "      <td>1072413963</td>\n",
       "      <td>141.0</td>\n",
       "      <td>Action</td>\n",
       "      <td>Adventure</td>\n",
       "      <td>324.0</td>\n",
       "    </tr>\n",
       "    <tr>\n",
       "      <th>6</th>\n",
       "      <td>Apr 27, 2018</td>\n",
       "      <td>Avengers: Infinity War</td>\n",
       "      <td>300000000</td>\n",
       "      <td>678815482</td>\n",
       "      <td>2048134200</td>\n",
       "      <td>1748134200</td>\n",
       "      <td>149.0</td>\n",
       "      <td>Action</td>\n",
       "      <td>Adventure</td>\n",
       "      <td>583.0</td>\n",
       "    </tr>\n",
       "  </tbody>\n",
       "</table>\n",
       "</div>"
      ],
      "text/plain": [
       "   release_date                                        movie  \\\n",
       "0  Dec 18, 2009                                       Avatar   \n",
       "1  May 20, 2011  Pirates of the Caribbean: On Stranger Tides   \n",
       "2   Jun 7, 2019                                 Dark Phoenix   \n",
       "3   May 1, 2015                      Avengers: Age of Ultron   \n",
       "6  Apr 27, 2018                       Avengers: Infinity War   \n",
       "\n",
       "   production_budget  domestic_gross  worldwide_gross  difference  \\\n",
       "0          425000000       760507625       2776345279  2351345279   \n",
       "1          410600000       241063875       1045663875   635063875   \n",
       "2          350000000        42762350        149762350  -200237650   \n",
       "3          330600000       459005868       1403013963  1072413963   \n",
       "6          300000000       678815482       2048134200  1748134200   \n",
       "\n",
       "   runtime_minutes  genre1     genre2    roi  \n",
       "0             93.0  Horror         NA  553.0  \n",
       "1            136.0  Action  Adventure  155.0  \n",
       "2            113.0  Action  Adventure  -57.0  \n",
       "3            141.0  Action  Adventure  324.0  \n",
       "6            149.0  Action  Adventure  583.0  "
      ]
     },
     "execution_count": 59,
     "metadata": {},
     "output_type": "execute_result"
    }
   ],
   "source": [
    "movie_details_df.head()"
   ]
  },
  {
   "cell_type": "code",
   "execution_count": 60,
   "metadata": {
    "ExecuteTime": {
     "end_time": "2020-12-03T19:36:40.502618Z",
     "start_time": "2020-12-03T19:36:40.494512Z"
    }
   },
   "outputs": [],
   "source": [
    "df2 = movie_details_df.groupby('genre1').mean()"
   ]
  },
  {
   "cell_type": "code",
   "execution_count": 61,
   "metadata": {
    "ExecuteTime": {
     "end_time": "2020-12-03T19:36:40.848799Z",
     "start_time": "2020-12-03T19:36:40.838071Z"
    }
   },
   "outputs": [
    {
     "data": {
      "text/html": [
       "<div>\n",
       "<style scoped>\n",
       "    .dataframe tbody tr th:only-of-type {\n",
       "        vertical-align: middle;\n",
       "    }\n",
       "\n",
       "    .dataframe tbody tr th {\n",
       "        vertical-align: top;\n",
       "    }\n",
       "\n",
       "    .dataframe thead th {\n",
       "        text-align: right;\n",
       "    }\n",
       "</style>\n",
       "<table border=\"1\" class=\"dataframe\">\n",
       "  <thead>\n",
       "    <tr style=\"text-align: right;\">\n",
       "      <th></th>\n",
       "      <th>production_budget</th>\n",
       "      <th>domestic_gross</th>\n",
       "      <th>worldwide_gross</th>\n",
       "      <th>difference</th>\n",
       "      <th>runtime_minutes</th>\n",
       "      <th>roi</th>\n",
       "    </tr>\n",
       "    <tr>\n",
       "      <th>genre1</th>\n",
       "      <th></th>\n",
       "      <th></th>\n",
       "      <th></th>\n",
       "      <th></th>\n",
       "      <th></th>\n",
       "      <th></th>\n",
       "    </tr>\n",
       "  </thead>\n",
       "  <tbody>\n",
       "    <tr>\n",
       "      <th>Action</th>\n",
       "      <td>6.484782e+07</td>\n",
       "      <td>6.954402e+07</td>\n",
       "      <td>1.865388e+08</td>\n",
       "      <td>1.216909e+08</td>\n",
       "      <td>109.323029</td>\n",
       "      <td>202.466770</td>\n",
       "    </tr>\n",
       "    <tr>\n",
       "      <th>Adventure</th>\n",
       "      <td>6.469624e+07</td>\n",
       "      <td>8.012409e+07</td>\n",
       "      <td>2.179506e+08</td>\n",
       "      <td>1.532544e+08</td>\n",
       "      <td>97.836910</td>\n",
       "      <td>224.377682</td>\n",
       "    </tr>\n",
       "    <tr>\n",
       "      <th>Animation</th>\n",
       "      <td>4.187346e+07</td>\n",
       "      <td>7.496967e+07</td>\n",
       "      <td>1.723784e+08</td>\n",
       "      <td>1.305050e+08</td>\n",
       "      <td>72.290323</td>\n",
       "      <td>968.645161</td>\n",
       "    </tr>\n",
       "    <tr>\n",
       "      <th>Biography</th>\n",
       "      <td>2.452738e+07</td>\n",
       "      <td>3.299917e+07</td>\n",
       "      <td>6.557843e+07</td>\n",
       "      <td>4.105104e+07</td>\n",
       "      <td>97.638498</td>\n",
       "      <td>449.380282</td>\n",
       "    </tr>\n",
       "    <tr>\n",
       "      <th>Comedy</th>\n",
       "      <td>2.050937e+07</td>\n",
       "      <td>3.014811e+07</td>\n",
       "      <td>5.580684e+07</td>\n",
       "      <td>3.529747e+07</td>\n",
       "      <td>100.685714</td>\n",
       "      <td>203.556190</td>\n",
       "    </tr>\n",
       "    <tr>\n",
       "      <th>Crime</th>\n",
       "      <td>2.218985e+07</td>\n",
       "      <td>2.347952e+07</td>\n",
       "      <td>4.988548e+07</td>\n",
       "      <td>2.769562e+07</td>\n",
       "      <td>104.871795</td>\n",
       "      <td>129.602564</td>\n",
       "    </tr>\n",
       "    <tr>\n",
       "      <th>Documentary</th>\n",
       "      <td>2.576596e+07</td>\n",
       "      <td>3.105321e+07</td>\n",
       "      <td>6.580986e+07</td>\n",
       "      <td>4.004390e+07</td>\n",
       "      <td>64.444118</td>\n",
       "      <td>395.141176</td>\n",
       "    </tr>\n",
       "    <tr>\n",
       "      <th>Drama</th>\n",
       "      <td>1.947342e+07</td>\n",
       "      <td>2.387481e+07</td>\n",
       "      <td>4.891992e+07</td>\n",
       "      <td>2.944649e+07</td>\n",
       "      <td>101.122699</td>\n",
       "      <td>292.570552</td>\n",
       "    </tr>\n",
       "    <tr>\n",
       "      <th>Family</th>\n",
       "      <td>4.289474e+07</td>\n",
       "      <td>1.505141e+08</td>\n",
       "      <td>3.654601e+08</td>\n",
       "      <td>3.225653e+08</td>\n",
       "      <td>92.894737</td>\n",
       "      <td>522.210526</td>\n",
       "    </tr>\n",
       "    <tr>\n",
       "      <th>Fantasy</th>\n",
       "      <td>4.523077e+07</td>\n",
       "      <td>8.969795e+07</td>\n",
       "      <td>2.596232e+08</td>\n",
       "      <td>2.143924e+08</td>\n",
       "      <td>98.461538</td>\n",
       "      <td>880.923077</td>\n",
       "    </tr>\n",
       "    <tr>\n",
       "      <th>Horror</th>\n",
       "      <td>1.706176e+07</td>\n",
       "      <td>3.331366e+07</td>\n",
       "      <td>7.445955e+07</td>\n",
       "      <td>5.739779e+07</td>\n",
       "      <td>91.055556</td>\n",
       "      <td>1076.151515</td>\n",
       "    </tr>\n",
       "    <tr>\n",
       "      <th>Music</th>\n",
       "      <td>2.150000e+07</td>\n",
       "      <td>4.909374e+07</td>\n",
       "      <td>1.360735e+08</td>\n",
       "      <td>1.145735e+08</td>\n",
       "      <td>99.000000</td>\n",
       "      <td>1581.166667</td>\n",
       "    </tr>\n",
       "    <tr>\n",
       "      <th>Musical</th>\n",
       "      <td>3.247143e+07</td>\n",
       "      <td>8.834728e+07</td>\n",
       "      <td>2.389734e+08</td>\n",
       "      <td>2.065020e+08</td>\n",
       "      <td>126.142857</td>\n",
       "      <td>2777.857143</td>\n",
       "    </tr>\n",
       "    <tr>\n",
       "      <th>Mystery</th>\n",
       "      <td>2.855000e+07</td>\n",
       "      <td>4.402424e+07</td>\n",
       "      <td>9.158855e+07</td>\n",
       "      <td>6.303855e+07</td>\n",
       "      <td>92.923077</td>\n",
       "      <td>166.923077</td>\n",
       "    </tr>\n",
       "    <tr>\n",
       "      <th>Romance</th>\n",
       "      <td>2.176071e+07</td>\n",
       "      <td>1.758969e+07</td>\n",
       "      <td>2.877613e+07</td>\n",
       "      <td>7.015412e+06</td>\n",
       "      <td>89.285714</td>\n",
       "      <td>111.428571</td>\n",
       "    </tr>\n",
       "    <tr>\n",
       "      <th>Sci-Fi</th>\n",
       "      <td>2.984389e+07</td>\n",
       "      <td>5.179750e+07</td>\n",
       "      <td>1.066757e+08</td>\n",
       "      <td>7.683182e+07</td>\n",
       "      <td>77.388889</td>\n",
       "      <td>152.388889</td>\n",
       "    </tr>\n",
       "    <tr>\n",
       "      <th>Sport</th>\n",
       "      <td>1.900000e+07</td>\n",
       "      <td>5.310554e+06</td>\n",
       "      <td>5.745503e+06</td>\n",
       "      <td>-1.325450e+07</td>\n",
       "      <td>114.000000</td>\n",
       "      <td>-70.000000</td>\n",
       "    </tr>\n",
       "    <tr>\n",
       "      <th>Thriller</th>\n",
       "      <td>2.762082e+07</td>\n",
       "      <td>2.742546e+07</td>\n",
       "      <td>6.630358e+07</td>\n",
       "      <td>3.868276e+07</td>\n",
       "      <td>87.803571</td>\n",
       "      <td>320.571429</td>\n",
       "    </tr>\n",
       "    <tr>\n",
       "      <th>War</th>\n",
       "      <td>2.200000e+07</td>\n",
       "      <td>2.597455e+07</td>\n",
       "      <td>2.597455e+07</td>\n",
       "      <td>3.974552e+06</td>\n",
       "      <td>123.500000</td>\n",
       "      <td>209.500000</td>\n",
       "    </tr>\n",
       "    <tr>\n",
       "      <th>Western</th>\n",
       "      <td>6.500000e+06</td>\n",
       "      <td>3.276629e+07</td>\n",
       "      <td>3.276629e+07</td>\n",
       "      <td>2.626629e+07</td>\n",
       "      <td>75.500000</td>\n",
       "      <td>173.000000</td>\n",
       "    </tr>\n",
       "  </tbody>\n",
       "</table>\n",
       "</div>"
      ],
      "text/plain": [
       "             production_budget  domestic_gross  worldwide_gross    difference  \\\n",
       "genre1                                                                          \n",
       "Action            6.484782e+07    6.954402e+07     1.865388e+08  1.216909e+08   \n",
       "Adventure         6.469624e+07    8.012409e+07     2.179506e+08  1.532544e+08   \n",
       "Animation         4.187346e+07    7.496967e+07     1.723784e+08  1.305050e+08   \n",
       "Biography         2.452738e+07    3.299917e+07     6.557843e+07  4.105104e+07   \n",
       "Comedy            2.050937e+07    3.014811e+07     5.580684e+07  3.529747e+07   \n",
       "Crime             2.218985e+07    2.347952e+07     4.988548e+07  2.769562e+07   \n",
       "Documentary       2.576596e+07    3.105321e+07     6.580986e+07  4.004390e+07   \n",
       "Drama             1.947342e+07    2.387481e+07     4.891992e+07  2.944649e+07   \n",
       "Family            4.289474e+07    1.505141e+08     3.654601e+08  3.225653e+08   \n",
       "Fantasy           4.523077e+07    8.969795e+07     2.596232e+08  2.143924e+08   \n",
       "Horror            1.706176e+07    3.331366e+07     7.445955e+07  5.739779e+07   \n",
       "Music             2.150000e+07    4.909374e+07     1.360735e+08  1.145735e+08   \n",
       "Musical           3.247143e+07    8.834728e+07     2.389734e+08  2.065020e+08   \n",
       "Mystery           2.855000e+07    4.402424e+07     9.158855e+07  6.303855e+07   \n",
       "Romance           2.176071e+07    1.758969e+07     2.877613e+07  7.015412e+06   \n",
       "Sci-Fi            2.984389e+07    5.179750e+07     1.066757e+08  7.683182e+07   \n",
       "Sport             1.900000e+07    5.310554e+06     5.745503e+06 -1.325450e+07   \n",
       "Thriller          2.762082e+07    2.742546e+07     6.630358e+07  3.868276e+07   \n",
       "War               2.200000e+07    2.597455e+07     2.597455e+07  3.974552e+06   \n",
       "Western           6.500000e+06    3.276629e+07     3.276629e+07  2.626629e+07   \n",
       "\n",
       "             runtime_minutes          roi  \n",
       "genre1                                     \n",
       "Action            109.323029   202.466770  \n",
       "Adventure          97.836910   224.377682  \n",
       "Animation          72.290323   968.645161  \n",
       "Biography          97.638498   449.380282  \n",
       "Comedy            100.685714   203.556190  \n",
       "Crime             104.871795   129.602564  \n",
       "Documentary        64.444118   395.141176  \n",
       "Drama             101.122699   292.570552  \n",
       "Family             92.894737   522.210526  \n",
       "Fantasy            98.461538   880.923077  \n",
       "Horror             91.055556  1076.151515  \n",
       "Music              99.000000  1581.166667  \n",
       "Musical           126.142857  2777.857143  \n",
       "Mystery            92.923077   166.923077  \n",
       "Romance            89.285714   111.428571  \n",
       "Sci-Fi             77.388889   152.388889  \n",
       "Sport             114.000000   -70.000000  \n",
       "Thriller           87.803571   320.571429  \n",
       "War               123.500000   209.500000  \n",
       "Western            75.500000   173.000000  "
      ]
     },
     "execution_count": 61,
     "metadata": {},
     "output_type": "execute_result"
    }
   ],
   "source": [
    "df2"
   ]
  },
  {
   "cell_type": "code",
   "execution_count": 62,
   "metadata": {
    "ExecuteTime": {
     "end_time": "2020-12-03T19:36:41.484814Z",
     "start_time": "2020-12-03T19:36:41.216279Z"
    },
    "scrolled": true
   },
   "outputs": [
    {
     "data": {
      "text/plain": [
       "<matplotlib.axes._subplots.AxesSubplot at 0x13719def0>"
      ]
     },
     "execution_count": 62,
     "metadata": {},
     "output_type": "execute_result"
    },
    {
     "data": {
      "image/png": "[encoded data removed]",
      "text/plain": [
       "<Figure size 864x648 with 1 Axes>"
      ]
     },
     "metadata": {
      "needs_background": "light"
     },
     "output_type": "display_data"
    }
   ],
   "source": [
    "plt.figure(figsize=(12,9))\n",
    "sns.barplot(x = 'roi', y = 'genre1', data = df2.reset_index(), palette = 'Blues_d')"
   ]
  },
  {
   "cell_type": "markdown",
   "metadata": {},
   "source": [
    "# Need to investigate why musical comes up as having the highest roi. After some investigation found that movies are being repeated. Trying to address that by using year in the join as well"
   ]
  },
  {
   "cell_type": "code",
   "execution_count": 63,
   "metadata": {
    "ExecuteTime": {
     "end_time": "2020-12-03T19:36:42.400996Z",
     "start_time": "2020-12-03T19:36:41.874694Z"
    }
   },
   "outputs": [],
   "source": [
    "movie_budgets_df['year'] = pd.to_datetime(movie_budgets_df['release_date']).dt.year"
   ]
  },
  {
   "cell_type": "code",
   "execution_count": 64,
   "metadata": {
    "ExecuteTime": {
     "end_time": "2020-12-03T19:36:42.730244Z",
     "start_time": "2020-12-03T19:36:42.721778Z"
    }
   },
   "outputs": [
    {
     "data": {
      "text/html": [
       "<div>\n",
       "<style scoped>\n",
       "    .dataframe tbody tr th:only-of-type {\n",
       "        vertical-align: middle;\n",
       "    }\n",
       "\n",
       "    .dataframe tbody tr th {\n",
       "        vertical-align: top;\n",
       "    }\n",
       "\n",
       "    .dataframe thead th {\n",
       "        text-align: right;\n",
       "    }\n",
       "</style>\n",
       "<table border=\"1\" class=\"dataframe\">\n",
       "  <thead>\n",
       "    <tr style=\"text-align: right;\">\n",
       "      <th></th>\n",
       "      <th>release_date</th>\n",
       "      <th>movie</th>\n",
       "      <th>production_budget</th>\n",
       "      <th>domestic_gross</th>\n",
       "      <th>worldwide_gross</th>\n",
       "      <th>difference</th>\n",
       "      <th>year</th>\n",
       "    </tr>\n",
       "    <tr>\n",
       "      <th>id</th>\n",
       "      <th></th>\n",
       "      <th></th>\n",
       "      <th></th>\n",
       "      <th></th>\n",
       "      <th></th>\n",
       "      <th></th>\n",
       "      <th></th>\n",
       "    </tr>\n",
       "  </thead>\n",
       "  <tbody>\n",
       "    <tr>\n",
       "      <th>1</th>\n",
       "      <td>Dec 18, 2009</td>\n",
       "      <td>Avatar</td>\n",
       "      <td>425000000</td>\n",
       "      <td>760507625</td>\n",
       "      <td>2776345279</td>\n",
       "      <td>2351345279</td>\n",
       "      <td>2009</td>\n",
       "    </tr>\n",
       "    <tr>\n",
       "      <th>2</th>\n",
       "      <td>May 20, 2011</td>\n",
       "      <td>Pirates of the Caribbean: On Stranger Tides</td>\n",
       "      <td>410600000</td>\n",
       "      <td>241063875</td>\n",
       "      <td>1045663875</td>\n",
       "      <td>635063875</td>\n",
       "      <td>2011</td>\n",
       "    </tr>\n",
       "    <tr>\n",
       "      <th>3</th>\n",
       "      <td>Jun 7, 2019</td>\n",
       "      <td>Dark Phoenix</td>\n",
       "      <td>350000000</td>\n",
       "      <td>42762350</td>\n",
       "      <td>149762350</td>\n",
       "      <td>-200237650</td>\n",
       "      <td>2019</td>\n",
       "    </tr>\n",
       "    <tr>\n",
       "      <th>4</th>\n",
       "      <td>May 1, 2015</td>\n",
       "      <td>Avengers: Age of Ultron</td>\n",
       "      <td>330600000</td>\n",
       "      <td>459005868</td>\n",
       "      <td>1403013963</td>\n",
       "      <td>1072413963</td>\n",
       "      <td>2015</td>\n",
       "    </tr>\n",
       "    <tr>\n",
       "      <th>5</th>\n",
       "      <td>Dec 15, 2017</td>\n",
       "      <td>Star Wars Ep. VIII: The Last Jedi</td>\n",
       "      <td>317000000</td>\n",
       "      <td>620181382</td>\n",
       "      <td>1316721747</td>\n",
       "      <td>999721747</td>\n",
       "      <td>2017</td>\n",
       "    </tr>\n",
       "  </tbody>\n",
       "</table>\n",
       "</div>"
      ],
      "text/plain": [
       "    release_date                                        movie  \\\n",
       "id                                                              \n",
       "1   Dec 18, 2009                                       Avatar   \n",
       "2   May 20, 2011  Pirates of the Caribbean: On Stranger Tides   \n",
       "3    Jun 7, 2019                                 Dark Phoenix   \n",
       "4    May 1, 2015                      Avengers: Age of Ultron   \n",
       "5   Dec 15, 2017            Star Wars Ep. VIII: The Last Jedi   \n",
       "\n",
       "    production_budget  domestic_gross  worldwide_gross  difference  year  \n",
       "id                                                                        \n",
       "1           425000000       760507625       2776345279  2351345279  2009  \n",
       "2           410600000       241063875       1045663875   635063875  2011  \n",
       "3           350000000        42762350        149762350  -200237650  2019  \n",
       "4           330600000       459005868       1403013963  1072413963  2015  \n",
       "5           317000000       620181382       1316721747   999721747  2017  "
      ]
     },
     "execution_count": 64,
     "metadata": {},
     "output_type": "execute_result"
    }
   ],
   "source": [
    "movie_budgets_df.head()"
   ]
  },
  {
   "cell_type": "code",
   "execution_count": 65,
   "metadata": {
    "ExecuteTime": {
     "end_time": "2020-12-03T19:36:43.146683Z",
     "start_time": "2020-12-03T19:36:43.089702Z"
    }
   },
   "outputs": [],
   "source": [
    "movie_details_df1 = pd.merge(movie_budgets_df, imdb_title_basics_df, left_on = ['movie', 'year'],\n",
    "                        right_on = ['primary_title', 'start_year'],\n",
    "                        how = 'inner')"
   ]
  },
  {
   "cell_type": "code",
   "execution_count": 66,
   "metadata": {
    "ExecuteTime": {
     "end_time": "2020-12-03T19:36:43.636155Z",
     "start_time": "2020-12-03T19:36:43.628105Z"
    }
   },
   "outputs": [
    {
     "name": "stdout",
     "output_type": "stream",
     "text": [
      "<class 'pandas.core.frame.DataFrame'>\n",
      "Int64Index: 1547 entries, 0 to 1546\n",
      "Data columns (total 12 columns):\n",
      "release_date         1547 non-null object\n",
      "movie                1547 non-null object\n",
      "production_budget    1547 non-null int64\n",
      "domestic_gross       1547 non-null int64\n",
      "worldwide_gross      1547 non-null int64\n",
      "difference           1547 non-null int64\n",
      "year                 1547 non-null int64\n",
      "primary_title        1547 non-null object\n",
      "original_title       1547 non-null object\n",
      "start_year           1547 non-null int64\n",
      "runtime_minutes      1521 non-null float64\n",
      "genres               1541 non-null object\n",
      "dtypes: float64(1), int64(6), object(5)\n",
      "memory usage: 157.1+ KB\n"
     ]
    }
   ],
   "source": [
    "movie_details_df1.info()"
   ]
  },
  {
   "cell_type": "code",
   "execution_count": 67,
   "metadata": {
    "ExecuteTime": {
     "end_time": "2020-12-03T19:36:44.016392Z",
     "start_time": "2020-12-03T19:36:44.012036Z"
    }
   },
   "outputs": [],
   "source": [
    "movie_details_df1.dropna(inplace=True)"
   ]
  },
  {
   "cell_type": "code",
   "execution_count": 68,
   "metadata": {
    "ExecuteTime": {
     "end_time": "2020-12-03T19:36:44.402227Z",
     "start_time": "2020-12-03T19:36:44.386910Z"
    }
   },
   "outputs": [
    {
     "data": {
      "text/html": [
       "<div>\n",
       "<style scoped>\n",
       "    .dataframe tbody tr th:only-of-type {\n",
       "        vertical-align: middle;\n",
       "    }\n",
       "\n",
       "    .dataframe tbody tr th {\n",
       "        vertical-align: top;\n",
       "    }\n",
       "\n",
       "    .dataframe thead th {\n",
       "        text-align: right;\n",
       "    }\n",
       "</style>\n",
       "<table border=\"1\" class=\"dataframe\">\n",
       "  <thead>\n",
       "    <tr style=\"text-align: right;\">\n",
       "      <th></th>\n",
       "      <th>release_date</th>\n",
       "      <th>movie</th>\n",
       "      <th>production_budget</th>\n",
       "      <th>domestic_gross</th>\n",
       "      <th>worldwide_gross</th>\n",
       "      <th>difference</th>\n",
       "      <th>year</th>\n",
       "      <th>primary_title</th>\n",
       "      <th>original_title</th>\n",
       "      <th>start_year</th>\n",
       "      <th>runtime_minutes</th>\n",
       "      <th>genres</th>\n",
       "      <th>genres_split</th>\n",
       "    </tr>\n",
       "  </thead>\n",
       "  <tbody>\n",
       "    <tr>\n",
       "      <th>0</th>\n",
       "      <td>May 20, 2011</td>\n",
       "      <td>Pirates of the Caribbean: On Stranger Tides</td>\n",
       "      <td>410600000</td>\n",
       "      <td>241063875</td>\n",
       "      <td>1045663875</td>\n",
       "      <td>635063875</td>\n",
       "      <td>2011</td>\n",
       "      <td>Pirates of the Caribbean: On Stranger Tides</td>\n",
       "      <td>Pirates of the Caribbean: On Stranger Tides</td>\n",
       "      <td>2011</td>\n",
       "      <td>136.0</td>\n",
       "      <td>Action,Adventure,Fantasy</td>\n",
       "      <td>[Action, Adventure, Fantasy]</td>\n",
       "    </tr>\n",
       "    <tr>\n",
       "      <th>1</th>\n",
       "      <td>Jun 7, 2019</td>\n",
       "      <td>Dark Phoenix</td>\n",
       "      <td>350000000</td>\n",
       "      <td>42762350</td>\n",
       "      <td>149762350</td>\n",
       "      <td>-200237650</td>\n",
       "      <td>2019</td>\n",
       "      <td>Dark Phoenix</td>\n",
       "      <td>Dark Phoenix</td>\n",
       "      <td>2019</td>\n",
       "      <td>113.0</td>\n",
       "      <td>Action,Adventure,Sci-Fi</td>\n",
       "      <td>[Action, Adventure, Sci-Fi]</td>\n",
       "    </tr>\n",
       "    <tr>\n",
       "      <th>2</th>\n",
       "      <td>May 1, 2015</td>\n",
       "      <td>Avengers: Age of Ultron</td>\n",
       "      <td>330600000</td>\n",
       "      <td>459005868</td>\n",
       "      <td>1403013963</td>\n",
       "      <td>1072413963</td>\n",
       "      <td>2015</td>\n",
       "      <td>Avengers: Age of Ultron</td>\n",
       "      <td>Avengers: Age of Ultron</td>\n",
       "      <td>2015</td>\n",
       "      <td>141.0</td>\n",
       "      <td>Action,Adventure,Sci-Fi</td>\n",
       "      <td>[Action, Adventure, Sci-Fi]</td>\n",
       "    </tr>\n",
       "    <tr>\n",
       "      <th>3</th>\n",
       "      <td>Apr 27, 2018</td>\n",
       "      <td>Avengers: Infinity War</td>\n",
       "      <td>300000000</td>\n",
       "      <td>678815482</td>\n",
       "      <td>2048134200</td>\n",
       "      <td>1748134200</td>\n",
       "      <td>2018</td>\n",
       "      <td>Avengers: Infinity War</td>\n",
       "      <td>Avengers: Infinity War</td>\n",
       "      <td>2018</td>\n",
       "      <td>149.0</td>\n",
       "      <td>Action,Adventure,Sci-Fi</td>\n",
       "      <td>[Action, Adventure, Sci-Fi]</td>\n",
       "    </tr>\n",
       "    <tr>\n",
       "      <th>4</th>\n",
       "      <td>Nov 17, 2017</td>\n",
       "      <td>Justice League</td>\n",
       "      <td>300000000</td>\n",
       "      <td>229024295</td>\n",
       "      <td>655945209</td>\n",
       "      <td>355945209</td>\n",
       "      <td>2017</td>\n",
       "      <td>Justice League</td>\n",
       "      <td>Justice League</td>\n",
       "      <td>2017</td>\n",
       "      <td>120.0</td>\n",
       "      <td>Action,Adventure,Fantasy</td>\n",
       "      <td>[Action, Adventure, Fantasy]</td>\n",
       "    </tr>\n",
       "  </tbody>\n",
       "</table>\n",
       "</div>"
      ],
      "text/plain": [
       "   release_date                                        movie  \\\n",
       "0  May 20, 2011  Pirates of the Caribbean: On Stranger Tides   \n",
       "1   Jun 7, 2019                                 Dark Phoenix   \n",
       "2   May 1, 2015                      Avengers: Age of Ultron   \n",
       "3  Apr 27, 2018                       Avengers: Infinity War   \n",
       "4  Nov 17, 2017                               Justice League   \n",
       "\n",
       "   production_budget  domestic_gross  worldwide_gross  difference  year  \\\n",
       "0          410600000       241063875       1045663875   635063875  2011   \n",
       "1          350000000        42762350        149762350  -200237650  2019   \n",
       "2          330600000       459005868       1403013963  1072413963  2015   \n",
       "3          300000000       678815482       2048134200  1748134200  2018   \n",
       "4          300000000       229024295        655945209   355945209  2017   \n",
       "\n",
       "                                 primary_title  \\\n",
       "0  Pirates of the Caribbean: On Stranger Tides   \n",
       "1                                 Dark Phoenix   \n",
       "2                      Avengers: Age of Ultron   \n",
       "3                       Avengers: Infinity War   \n",
       "4                               Justice League   \n",
       "\n",
       "                                original_title  start_year  runtime_minutes  \\\n",
       "0  Pirates of the Caribbean: On Stranger Tides        2011            136.0   \n",
       "1                                 Dark Phoenix        2019            113.0   \n",
       "2                      Avengers: Age of Ultron        2015            141.0   \n",
       "3                       Avengers: Infinity War        2018            149.0   \n",
       "4                               Justice League        2017            120.0   \n",
       "\n",
       "                     genres                  genres_split  \n",
       "0  Action,Adventure,Fantasy  [Action, Adventure, Fantasy]  \n",
       "1   Action,Adventure,Sci-Fi   [Action, Adventure, Sci-Fi]  \n",
       "2   Action,Adventure,Sci-Fi   [Action, Adventure, Sci-Fi]  \n",
       "3   Action,Adventure,Sci-Fi   [Action, Adventure, Sci-Fi]  \n",
       "4  Action,Adventure,Fantasy  [Action, Adventure, Fantasy]  "
      ]
     },
     "execution_count": 68,
     "metadata": {},
     "output_type": "execute_result"
    }
   ],
   "source": [
    "movie_details_df1['genres_split'] = movie_details_df1['genres'].map(lambda x: x.split(\",\") if x else x)\n",
    "movie_details_df1.head()"
   ]
  },
  {
   "cell_type": "code",
   "execution_count": 69,
   "metadata": {
    "ExecuteTime": {
     "end_time": "2020-12-03T19:36:44.807375Z",
     "start_time": "2020-12-03T19:36:44.788601Z"
    }
   },
   "outputs": [
    {
     "data": {
      "text/html": [
       "<div>\n",
       "<style scoped>\n",
       "    .dataframe tbody tr th:only-of-type {\n",
       "        vertical-align: middle;\n",
       "    }\n",
       "\n",
       "    .dataframe tbody tr th {\n",
       "        vertical-align: top;\n",
       "    }\n",
       "\n",
       "    .dataframe thead th {\n",
       "        text-align: right;\n",
       "    }\n",
       "</style>\n",
       "<table border=\"1\" class=\"dataframe\">\n",
       "  <thead>\n",
       "    <tr style=\"text-align: right;\">\n",
       "      <th></th>\n",
       "      <th>release_date</th>\n",
       "      <th>movie</th>\n",
       "      <th>production_budget</th>\n",
       "      <th>domestic_gross</th>\n",
       "      <th>worldwide_gross</th>\n",
       "      <th>difference</th>\n",
       "      <th>year</th>\n",
       "      <th>primary_title</th>\n",
       "      <th>original_title</th>\n",
       "      <th>start_year</th>\n",
       "      <th>runtime_minutes</th>\n",
       "      <th>genres</th>\n",
       "      <th>genres_split</th>\n",
       "      <th>genre1</th>\n",
       "      <th>genre2</th>\n",
       "    </tr>\n",
       "  </thead>\n",
       "  <tbody>\n",
       "    <tr>\n",
       "      <th>0</th>\n",
       "      <td>May 20, 2011</td>\n",
       "      <td>Pirates of the Caribbean: On Stranger Tides</td>\n",
       "      <td>410600000</td>\n",
       "      <td>241063875</td>\n",
       "      <td>1045663875</td>\n",
       "      <td>635063875</td>\n",
       "      <td>2011</td>\n",
       "      <td>Pirates of the Caribbean: On Stranger Tides</td>\n",
       "      <td>Pirates of the Caribbean: On Stranger Tides</td>\n",
       "      <td>2011</td>\n",
       "      <td>136.0</td>\n",
       "      <td>Action,Adventure,Fantasy</td>\n",
       "      <td>[Action, Adventure, Fantasy]</td>\n",
       "      <td>Action</td>\n",
       "      <td>Adventure</td>\n",
       "    </tr>\n",
       "    <tr>\n",
       "      <th>1</th>\n",
       "      <td>Jun 7, 2019</td>\n",
       "      <td>Dark Phoenix</td>\n",
       "      <td>350000000</td>\n",
       "      <td>42762350</td>\n",
       "      <td>149762350</td>\n",
       "      <td>-200237650</td>\n",
       "      <td>2019</td>\n",
       "      <td>Dark Phoenix</td>\n",
       "      <td>Dark Phoenix</td>\n",
       "      <td>2019</td>\n",
       "      <td>113.0</td>\n",
       "      <td>Action,Adventure,Sci-Fi</td>\n",
       "      <td>[Action, Adventure, Sci-Fi]</td>\n",
       "      <td>Action</td>\n",
       "      <td>Adventure</td>\n",
       "    </tr>\n",
       "    <tr>\n",
       "      <th>2</th>\n",
       "      <td>May 1, 2015</td>\n",
       "      <td>Avengers: Age of Ultron</td>\n",
       "      <td>330600000</td>\n",
       "      <td>459005868</td>\n",
       "      <td>1403013963</td>\n",
       "      <td>1072413963</td>\n",
       "      <td>2015</td>\n",
       "      <td>Avengers: Age of Ultron</td>\n",
       "      <td>Avengers: Age of Ultron</td>\n",
       "      <td>2015</td>\n",
       "      <td>141.0</td>\n",
       "      <td>Action,Adventure,Sci-Fi</td>\n",
       "      <td>[Action, Adventure, Sci-Fi]</td>\n",
       "      <td>Action</td>\n",
       "      <td>Adventure</td>\n",
       "    </tr>\n",
       "    <tr>\n",
       "      <th>3</th>\n",
       "      <td>Apr 27, 2018</td>\n",
       "      <td>Avengers: Infinity War</td>\n",
       "      <td>300000000</td>\n",
       "      <td>678815482</td>\n",
       "      <td>2048134200</td>\n",
       "      <td>1748134200</td>\n",
       "      <td>2018</td>\n",
       "      <td>Avengers: Infinity War</td>\n",
       "      <td>Avengers: Infinity War</td>\n",
       "      <td>2018</td>\n",
       "      <td>149.0</td>\n",
       "      <td>Action,Adventure,Sci-Fi</td>\n",
       "      <td>[Action, Adventure, Sci-Fi]</td>\n",
       "      <td>Action</td>\n",
       "      <td>Adventure</td>\n",
       "    </tr>\n",
       "    <tr>\n",
       "      <th>4</th>\n",
       "      <td>Nov 17, 2017</td>\n",
       "      <td>Justice League</td>\n",
       "      <td>300000000</td>\n",
       "      <td>229024295</td>\n",
       "      <td>655945209</td>\n",
       "      <td>355945209</td>\n",
       "      <td>2017</td>\n",
       "      <td>Justice League</td>\n",
       "      <td>Justice League</td>\n",
       "      <td>2017</td>\n",
       "      <td>120.0</td>\n",
       "      <td>Action,Adventure,Fantasy</td>\n",
       "      <td>[Action, Adventure, Fantasy]</td>\n",
       "      <td>Action</td>\n",
       "      <td>Adventure</td>\n",
       "    </tr>\n",
       "  </tbody>\n",
       "</table>\n",
       "</div>"
      ],
      "text/plain": [
       "   release_date                                        movie  \\\n",
       "0  May 20, 2011  Pirates of the Caribbean: On Stranger Tides   \n",
       "1   Jun 7, 2019                                 Dark Phoenix   \n",
       "2   May 1, 2015                      Avengers: Age of Ultron   \n",
       "3  Apr 27, 2018                       Avengers: Infinity War   \n",
       "4  Nov 17, 2017                               Justice League   \n",
       "\n",
       "   production_budget  domestic_gross  worldwide_gross  difference  year  \\\n",
       "0          410600000       241063875       1045663875   635063875  2011   \n",
       "1          350000000        42762350        149762350  -200237650  2019   \n",
       "2          330600000       459005868       1403013963  1072413963  2015   \n",
       "3          300000000       678815482       2048134200  1748134200  2018   \n",
       "4          300000000       229024295        655945209   355945209  2017   \n",
       "\n",
       "                                 primary_title  \\\n",
       "0  Pirates of the Caribbean: On Stranger Tides   \n",
       "1                                 Dark Phoenix   \n",
       "2                      Avengers: Age of Ultron   \n",
       "3                       Avengers: Infinity War   \n",
       "4                               Justice League   \n",
       "\n",
       "                                original_title  start_year  runtime_minutes  \\\n",
       "0  Pirates of the Caribbean: On Stranger Tides        2011            136.0   \n",
       "1                                 Dark Phoenix        2019            113.0   \n",
       "2                      Avengers: Age of Ultron        2015            141.0   \n",
       "3                       Avengers: Infinity War        2018            149.0   \n",
       "4                               Justice League        2017            120.0   \n",
       "\n",
       "                     genres                  genres_split  genre1     genre2  \n",
       "0  Action,Adventure,Fantasy  [Action, Adventure, Fantasy]  Action  Adventure  \n",
       "1   Action,Adventure,Sci-Fi   [Action, Adventure, Sci-Fi]  Action  Adventure  \n",
       "2   Action,Adventure,Sci-Fi   [Action, Adventure, Sci-Fi]  Action  Adventure  \n",
       "3   Action,Adventure,Sci-Fi   [Action, Adventure, Sci-Fi]  Action  Adventure  \n",
       "4  Action,Adventure,Fantasy  [Action, Adventure, Fantasy]  Action  Adventure  "
      ]
     },
     "execution_count": 69,
     "metadata": {},
     "output_type": "execute_result"
    }
   ],
   "source": [
    "movie_details_df1['genre1'] = movie_details_df1['genres_split'].map(lambda x: x[0])\n",
    "movie_details_df1.head()\n",
    "y  = \"NA\"\n",
    "movie_details_df1['genre2'] = movie_details_df1['genres_split'].map(lambda x: y if len(x) < 2 else x[1])\n",
    "movie_details_df1.head()"
   ]
  },
  {
   "cell_type": "code",
   "execution_count": null,
   "metadata": {},
   "outputs": [],
   "source": []
  },
  {
   "cell_type": "code",
   "execution_count": 70,
   "metadata": {
    "ExecuteTime": {
     "end_time": "2020-12-03T19:36:45.229633Z",
     "start_time": "2020-12-03T19:36:45.222221Z"
    }
   },
   "outputs": [],
   "source": [
    "movie_details_df1.drop(columns=['primary_title', 'original_title', 'start_year'], inplace=True)"
   ]
  },
  {
   "cell_type": "code",
   "execution_count": 71,
   "metadata": {
    "ExecuteTime": {
     "end_time": "2020-12-03T19:36:45.604792Z",
     "start_time": "2020-12-03T19:36:45.599032Z"
    }
   },
   "outputs": [
    {
     "name": "stdout",
     "output_type": "stream",
     "text": [
      "<class 'pandas.core.frame.DataFrame'>\n",
      "Int64Index: 1519 entries, 0 to 1546\n",
      "Data columns (total 12 columns):\n",
      "release_date         1519 non-null object\n",
      "movie                1519 non-null object\n",
      "production_budget    1519 non-null int64\n",
      "domestic_gross       1519 non-null int64\n",
      "worldwide_gross      1519 non-null int64\n",
      "difference           1519 non-null int64\n",
      "year                 1519 non-null int64\n",
      "runtime_minutes      1519 non-null float64\n",
      "genres               1519 non-null object\n",
      "genres_split         1519 non-null object\n",
      "genre1               1519 non-null object\n",
      "genre2               1519 non-null object\n",
      "dtypes: float64(1), int64(5), object(6)\n",
      "memory usage: 154.3+ KB\n"
     ]
    }
   ],
   "source": [
    "movie_details_df1.info()"
   ]
  },
  {
   "cell_type": "code",
   "execution_count": 72,
   "metadata": {
    "ExecuteTime": {
     "end_time": "2020-12-03T19:36:46.029960Z",
     "start_time": "2020-12-03T19:36:46.026367Z"
    }
   },
   "outputs": [],
   "source": [
    "movie_details_df1.drop(columns=['genres', 'genres_split'], inplace=True)"
   ]
  },
  {
   "cell_type": "code",
   "execution_count": 73,
   "metadata": {
    "ExecuteTime": {
     "end_time": "2020-12-03T19:36:46.400421Z",
     "start_time": "2020-12-03T19:36:46.394243Z"
    }
   },
   "outputs": [
    {
     "name": "stdout",
     "output_type": "stream",
     "text": [
      "<class 'pandas.core.frame.DataFrame'>\n",
      "Int64Index: 1519 entries, 0 to 1546\n",
      "Data columns (total 10 columns):\n",
      "release_date         1519 non-null object\n",
      "movie                1519 non-null object\n",
      "production_budget    1519 non-null int64\n",
      "domestic_gross       1519 non-null int64\n",
      "worldwide_gross      1519 non-null int64\n",
      "difference           1519 non-null int64\n",
      "year                 1519 non-null int64\n",
      "runtime_minutes      1519 non-null float64\n",
      "genre1               1519 non-null object\n",
      "genre2               1519 non-null object\n",
      "dtypes: float64(1), int64(5), object(4)\n",
      "memory usage: 130.5+ KB\n"
     ]
    }
   ],
   "source": [
    "movie_details_df1.info()"
   ]
  },
  {
   "cell_type": "code",
   "execution_count": 74,
   "metadata": {
    "ExecuteTime": {
     "end_time": "2020-12-03T19:36:46.813192Z",
     "start_time": "2020-12-03T19:36:46.809691Z"
    }
   },
   "outputs": [],
   "source": [
    "movie_details_df1['roi'] = (movie_details_df1['difference'] / movie_details_df1['production_budget']) * 100"
   ]
  },
  {
   "cell_type": "code",
   "execution_count": 75,
   "metadata": {
    "ExecuteTime": {
     "end_time": "2020-12-03T19:36:47.251607Z",
     "start_time": "2020-12-03T19:36:47.235380Z"
    }
   },
   "outputs": [
    {
     "data": {
      "text/html": [
       "<div>\n",
       "<style scoped>\n",
       "    .dataframe tbody tr th:only-of-type {\n",
       "        vertical-align: middle;\n",
       "    }\n",
       "\n",
       "    .dataframe tbody tr th {\n",
       "        vertical-align: top;\n",
       "    }\n",
       "\n",
       "    .dataframe thead th {\n",
       "        text-align: right;\n",
       "    }\n",
       "</style>\n",
       "<table border=\"1\" class=\"dataframe\">\n",
       "  <thead>\n",
       "    <tr style=\"text-align: right;\">\n",
       "      <th></th>\n",
       "      <th>production_budget</th>\n",
       "      <th>domestic_gross</th>\n",
       "      <th>worldwide_gross</th>\n",
       "      <th>difference</th>\n",
       "      <th>year</th>\n",
       "      <th>runtime_minutes</th>\n",
       "      <th>roi</th>\n",
       "    </tr>\n",
       "    <tr>\n",
       "      <th>genre1</th>\n",
       "      <th></th>\n",
       "      <th></th>\n",
       "      <th></th>\n",
       "      <th></th>\n",
       "      <th></th>\n",
       "      <th></th>\n",
       "      <th></th>\n",
       "    </tr>\n",
       "  </thead>\n",
       "  <tbody>\n",
       "    <tr>\n",
       "      <th>Action</th>\n",
       "      <td>7.894203e+07</td>\n",
       "      <td>8.651946e+07</td>\n",
       "      <td>2.388686e+08</td>\n",
       "      <td>1.599266e+08</td>\n",
       "      <td>2014.078125</td>\n",
       "      <td>112.071429</td>\n",
       "      <td>159.998854</td>\n",
       "    </tr>\n",
       "    <tr>\n",
       "      <th>Adventure</th>\n",
       "      <td>8.251108e+07</td>\n",
       "      <td>1.027754e+08</td>\n",
       "      <td>2.855034e+08</td>\n",
       "      <td>2.029923e+08</td>\n",
       "      <td>2014.120253</td>\n",
       "      <td>103.740506</td>\n",
       "      <td>227.568877</td>\n",
       "    </tr>\n",
       "    <tr>\n",
       "      <th>Animation</th>\n",
       "      <td>4.250000e+07</td>\n",
       "      <td>9.765592e+07</td>\n",
       "      <td>2.347536e+08</td>\n",
       "      <td>1.922536e+08</td>\n",
       "      <td>2013.222222</td>\n",
       "      <td>90.222222</td>\n",
       "      <td>227.239101</td>\n",
       "    </tr>\n",
       "    <tr>\n",
       "      <th>Biography</th>\n",
       "      <td>2.406158e+07</td>\n",
       "      <td>3.801483e+07</td>\n",
       "      <td>7.445193e+07</td>\n",
       "      <td>5.039035e+07</td>\n",
       "      <td>2014.789474</td>\n",
       "      <td>116.912281</td>\n",
       "      <td>230.906135</td>\n",
       "    </tr>\n",
       "    <tr>\n",
       "      <th>Comedy</th>\n",
       "      <td>2.234560e+07</td>\n",
       "      <td>3.613082e+07</td>\n",
       "      <td>6.526390e+07</td>\n",
       "      <td>4.291830e+07</td>\n",
       "      <td>2013.260870</td>\n",
       "      <td>102.695652</td>\n",
       "      <td>213.302902</td>\n",
       "    </tr>\n",
       "    <tr>\n",
       "      <th>Crime</th>\n",
       "      <td>2.383787e+07</td>\n",
       "      <td>2.704703e+07</td>\n",
       "      <td>5.618204e+07</td>\n",
       "      <td>3.234417e+07</td>\n",
       "      <td>2013.746667</td>\n",
       "      <td>110.600000</td>\n",
       "      <td>127.965283</td>\n",
       "    </tr>\n",
       "    <tr>\n",
       "      <th>Documentary</th>\n",
       "      <td>1.570379e+07</td>\n",
       "      <td>1.915905e+07</td>\n",
       "      <td>4.352904e+07</td>\n",
       "      <td>2.782525e+07</td>\n",
       "      <td>2013.717949</td>\n",
       "      <td>78.230769</td>\n",
       "      <td>161.377261</td>\n",
       "    </tr>\n",
       "    <tr>\n",
       "      <th>Drama</th>\n",
       "      <td>1.893127e+07</td>\n",
       "      <td>2.611910e+07</td>\n",
       "      <td>5.729676e+07</td>\n",
       "      <td>3.836549e+07</td>\n",
       "      <td>2013.629213</td>\n",
       "      <td>108.101124</td>\n",
       "      <td>264.280569</td>\n",
       "    </tr>\n",
       "    <tr>\n",
       "      <th>Family</th>\n",
       "      <td>3.807000e+07</td>\n",
       "      <td>1.008102e+08</td>\n",
       "      <td>2.545586e+08</td>\n",
       "      <td>2.164886e+08</td>\n",
       "      <td>2014.800000</td>\n",
       "      <td>102.600000</td>\n",
       "      <td>69.220375</td>\n",
       "    </tr>\n",
       "    <tr>\n",
       "      <th>Fantasy</th>\n",
       "      <td>6.650000e+07</td>\n",
       "      <td>1.070401e+08</td>\n",
       "      <td>2.974245e+08</td>\n",
       "      <td>2.309245e+08</td>\n",
       "      <td>2013.166667</td>\n",
       "      <td>107.666667</td>\n",
       "      <td>236.017420</td>\n",
       "    </tr>\n",
       "    <tr>\n",
       "      <th>Horror</th>\n",
       "      <td>1.308988e+07</td>\n",
       "      <td>3.736652e+07</td>\n",
       "      <td>8.164064e+07</td>\n",
       "      <td>6.855076e+07</td>\n",
       "      <td>2014.250000</td>\n",
       "      <td>94.059524</td>\n",
       "      <td>1386.447566</td>\n",
       "    </tr>\n",
       "    <tr>\n",
       "      <th>Music</th>\n",
       "      <td>1.800000e+07</td>\n",
       "      <td>3.419967e+06</td>\n",
       "      <td>9.082906e+06</td>\n",
       "      <td>-8.917094e+06</td>\n",
       "      <td>2013.000000</td>\n",
       "      <td>93.000000</td>\n",
       "      <td>-49.539411</td>\n",
       "    </tr>\n",
       "    <tr>\n",
       "      <th>Musical</th>\n",
       "      <td>5.600000e+06</td>\n",
       "      <td>5.318060e+05</td>\n",
       "      <td>5.318060e+05</td>\n",
       "      <td>-5.068194e+06</td>\n",
       "      <td>2010.000000</td>\n",
       "      <td>105.000000</td>\n",
       "      <td>-90.503464</td>\n",
       "    </tr>\n",
       "    <tr>\n",
       "      <th>Mystery</th>\n",
       "      <td>3.946250e+07</td>\n",
       "      <td>8.356746e+07</td>\n",
       "      <td>1.782507e+08</td>\n",
       "      <td>1.387882e+08</td>\n",
       "      <td>2011.750000</td>\n",
       "      <td>111.250000</td>\n",
       "      <td>266.705536</td>\n",
       "    </tr>\n",
       "    <tr>\n",
       "      <th>Romance</th>\n",
       "      <td>2.542500e+07</td>\n",
       "      <td>3.124782e+07</td>\n",
       "      <td>6.346566e+07</td>\n",
       "      <td>3.804066e+07</td>\n",
       "      <td>2011.500000</td>\n",
       "      <td>94.500000</td>\n",
       "      <td>26.425623</td>\n",
       "    </tr>\n",
       "    <tr>\n",
       "      <th>Sci-Fi</th>\n",
       "      <td>1.253500e+07</td>\n",
       "      <td>2.979158e+06</td>\n",
       "      <td>4.500928e+06</td>\n",
       "      <td>-8.034072e+06</td>\n",
       "      <td>2015.000000</td>\n",
       "      <td>84.500000</td>\n",
       "      <td>-75.902686</td>\n",
       "    </tr>\n",
       "    <tr>\n",
       "      <th>Thriller</th>\n",
       "      <td>6.575000e+06</td>\n",
       "      <td>1.385604e+07</td>\n",
       "      <td>3.478963e+07</td>\n",
       "      <td>2.821463e+07</td>\n",
       "      <td>2012.750000</td>\n",
       "      <td>90.000000</td>\n",
       "      <td>168.806777</td>\n",
       "    </tr>\n",
       "    <tr>\n",
       "      <th>Western</th>\n",
       "      <td>1.000000e+06</td>\n",
       "      <td>0.000000e+00</td>\n",
       "      <td>0.000000e+00</td>\n",
       "      <td>-1.000000e+06</td>\n",
       "      <td>2014.000000</td>\n",
       "      <td>84.000000</td>\n",
       "      <td>-100.000000</td>\n",
       "    </tr>\n",
       "  </tbody>\n",
       "</table>\n",
       "</div>"
      ],
      "text/plain": [
       "             production_budget  domestic_gross  worldwide_gross    difference  \\\n",
       "genre1                                                                          \n",
       "Action            7.894203e+07    8.651946e+07     2.388686e+08  1.599266e+08   \n",
       "Adventure         8.251108e+07    1.027754e+08     2.855034e+08  2.029923e+08   \n",
       "Animation         4.250000e+07    9.765592e+07     2.347536e+08  1.922536e+08   \n",
       "Biography         2.406158e+07    3.801483e+07     7.445193e+07  5.039035e+07   \n",
       "Comedy            2.234560e+07    3.613082e+07     6.526390e+07  4.291830e+07   \n",
       "Crime             2.383787e+07    2.704703e+07     5.618204e+07  3.234417e+07   \n",
       "Documentary       1.570379e+07    1.915905e+07     4.352904e+07  2.782525e+07   \n",
       "Drama             1.893127e+07    2.611910e+07     5.729676e+07  3.836549e+07   \n",
       "Family            3.807000e+07    1.008102e+08     2.545586e+08  2.164886e+08   \n",
       "Fantasy           6.650000e+07    1.070401e+08     2.974245e+08  2.309245e+08   \n",
       "Horror            1.308988e+07    3.736652e+07     8.164064e+07  6.855076e+07   \n",
       "Music             1.800000e+07    3.419967e+06     9.082906e+06 -8.917094e+06   \n",
       "Musical           5.600000e+06    5.318060e+05     5.318060e+05 -5.068194e+06   \n",
       "Mystery           3.946250e+07    8.356746e+07     1.782507e+08  1.387882e+08   \n",
       "Romance           2.542500e+07    3.124782e+07     6.346566e+07  3.804066e+07   \n",
       "Sci-Fi            1.253500e+07    2.979158e+06     4.500928e+06 -8.034072e+06   \n",
       "Thriller          6.575000e+06    1.385604e+07     3.478963e+07  2.821463e+07   \n",
       "Western           1.000000e+06    0.000000e+00     0.000000e+00 -1.000000e+06   \n",
       "\n",
       "                    year  runtime_minutes          roi  \n",
       "genre1                                                  \n",
       "Action       2014.078125       112.071429   159.998854  \n",
       "Adventure    2014.120253       103.740506   227.568877  \n",
       "Animation    2013.222222        90.222222   227.239101  \n",
       "Biography    2014.789474       116.912281   230.906135  \n",
       "Comedy       2013.260870       102.695652   213.302902  \n",
       "Crime        2013.746667       110.600000   127.965283  \n",
       "Documentary  2013.717949        78.230769   161.377261  \n",
       "Drama        2013.629213       108.101124   264.280569  \n",
       "Family       2014.800000       102.600000    69.220375  \n",
       "Fantasy      2013.166667       107.666667   236.017420  \n",
       "Horror       2014.250000        94.059524  1386.447566  \n",
       "Music        2013.000000        93.000000   -49.539411  \n",
       "Musical      2010.000000       105.000000   -90.503464  \n",
       "Mystery      2011.750000       111.250000   266.705536  \n",
       "Romance      2011.500000        94.500000    26.425623  \n",
       "Sci-Fi       2015.000000        84.500000   -75.902686  \n",
       "Thriller     2012.750000        90.000000   168.806777  \n",
       "Western      2014.000000        84.000000  -100.000000  "
      ]
     },
     "execution_count": 75,
     "metadata": {},
     "output_type": "execute_result"
    }
   ],
   "source": [
    "df4 = movie_details_df1.groupby('genre1').mean()\n",
    "df4"
   ]
  },
  {
   "cell_type": "code",
   "execution_count": 76,
   "metadata": {
    "ExecuteTime": {
     "end_time": "2020-12-03T19:36:48.049795Z",
     "start_time": "2020-12-03T19:36:47.729733Z"
    }
   },
   "outputs": [
    {
     "data": {
      "text/plain": [
       "<matplotlib.axes._subplots.AxesSubplot at 0x12f906748>"
      ]
     },
     "execution_count": 76,
     "metadata": {},
     "output_type": "execute_result"
    },
    {
     "data": {
      "image/png": "[encoded data removed]",
      "text/plain": [
       "<Figure size 864x648 with 1 Axes>"
      ]
     },
     "metadata": {
      "needs_background": "light"
     },
     "output_type": "display_data"
    }
   ],
   "source": [
    "plt.figure(figsize=(12,9))\n",
    "sns.barplot(x = 'roi', y = 'genre1', data = df4.reset_index(), palette = 'Blues_d')"
   ]
  },
  {
   "cell_type": "code",
   "execution_count": 77,
   "metadata": {
    "ExecuteTime": {
     "end_time": "2020-12-03T19:36:48.483385Z",
     "start_time": "2020-12-03T19:36:48.472164Z"
    }
   },
   "outputs": [
    {
     "data": {
      "text/html": [
       "<div>\n",
       "<style scoped>\n",
       "    .dataframe tbody tr th:only-of-type {\n",
       "        vertical-align: middle;\n",
       "    }\n",
       "\n",
       "    .dataframe tbody tr th {\n",
       "        vertical-align: top;\n",
       "    }\n",
       "\n",
       "    .dataframe thead th {\n",
       "        text-align: right;\n",
       "    }\n",
       "</style>\n",
       "<table border=\"1\" class=\"dataframe\">\n",
       "  <thead>\n",
       "    <tr style=\"text-align: right;\">\n",
       "      <th></th>\n",
       "      <th>release_date</th>\n",
       "      <th>movie</th>\n",
       "      <th>production_budget</th>\n",
       "      <th>domestic_gross</th>\n",
       "      <th>worldwide_gross</th>\n",
       "      <th>difference</th>\n",
       "      <th>year</th>\n",
       "      <th>runtime_minutes</th>\n",
       "      <th>genre1</th>\n",
       "      <th>genre2</th>\n",
       "      <th>roi</th>\n",
       "    </tr>\n",
       "  </thead>\n",
       "  <tbody>\n",
       "    <tr>\n",
       "      <th>229</th>\n",
       "      <td>Mar 13, 2015</td>\n",
       "      <td>Cinderella</td>\n",
       "      <td>95000000</td>\n",
       "      <td>201151353</td>\n",
       "      <td>534551353</td>\n",
       "      <td>439551353</td>\n",
       "      <td>2015</td>\n",
       "      <td>105.0</td>\n",
       "      <td>Drama</td>\n",
       "      <td>Family</td>\n",
       "      <td>462.685635</td>\n",
       "    </tr>\n",
       "    <tr>\n",
       "      <th>230</th>\n",
       "      <td>Mar 13, 2015</td>\n",
       "      <td>Cinderella</td>\n",
       "      <td>95000000</td>\n",
       "      <td>201151353</td>\n",
       "      <td>534551353</td>\n",
       "      <td>439551353</td>\n",
       "      <td>2015</td>\n",
       "      <td>113.0</td>\n",
       "      <td>Fantasy</td>\n",
       "      <td>NA</td>\n",
       "      <td>462.685635</td>\n",
       "    </tr>\n",
       "  </tbody>\n",
       "</table>\n",
       "</div>"
      ],
      "text/plain": [
       "     release_date       movie  production_budget  domestic_gross  \\\n",
       "229  Mar 13, 2015  Cinderella           95000000       201151353   \n",
       "230  Mar 13, 2015  Cinderella           95000000       201151353   \n",
       "\n",
       "     worldwide_gross  difference  year  runtime_minutes   genre1  genre2  \\\n",
       "229        534551353   439551353  2015            105.0    Drama  Family   \n",
       "230        534551353   439551353  2015            113.0  Fantasy      NA   \n",
       "\n",
       "            roi  \n",
       "229  462.685635  \n",
       "230  462.685635  "
      ]
     },
     "execution_count": 77,
     "metadata": {},
     "output_type": "execute_result"
    }
   ],
   "source": [
    "movie_details_df1[movie_details_df1.movie == 'Cinderella']"
   ]
  },
  {
   "cell_type": "code",
   "execution_count": 78,
   "metadata": {
    "ExecuteTime": {
     "end_time": "2020-12-03T19:36:48.946417Z",
     "start_time": "2020-12-03T19:36:48.937334Z"
    }
   },
   "outputs": [
    {
     "data": {
      "text/html": [
       "<div>\n",
       "<style scoped>\n",
       "    .dataframe tbody tr th:only-of-type {\n",
       "        vertical-align: middle;\n",
       "    }\n",
       "\n",
       "    .dataframe tbody tr th {\n",
       "        vertical-align: top;\n",
       "    }\n",
       "\n",
       "    .dataframe thead th {\n",
       "        text-align: right;\n",
       "    }\n",
       "</style>\n",
       "<table border=\"1\" class=\"dataframe\">\n",
       "  <thead>\n",
       "    <tr style=\"text-align: right;\">\n",
       "      <th></th>\n",
       "      <th>release_date</th>\n",
       "      <th>movie</th>\n",
       "      <th>production_budget</th>\n",
       "      <th>domestic_gross</th>\n",
       "      <th>worldwide_gross</th>\n",
       "      <th>difference</th>\n",
       "      <th>year</th>\n",
       "      <th>runtime_minutes</th>\n",
       "      <th>genre1</th>\n",
       "      <th>genre2</th>\n",
       "      <th>roi</th>\n",
       "    </tr>\n",
       "  </thead>\n",
       "  <tbody>\n",
       "    <tr>\n",
       "      <th>898</th>\n",
       "      <td>Sep 27, 2013</td>\n",
       "      <td>Metallica Through the Never</td>\n",
       "      <td>18000000</td>\n",
       "      <td>3419967</td>\n",
       "      <td>9082906</td>\n",
       "      <td>-8917094</td>\n",
       "      <td>2013</td>\n",
       "      <td>93.0</td>\n",
       "      <td>Music</td>\n",
       "      <td>NA</td>\n",
       "      <td>-49.539411</td>\n",
       "    </tr>\n",
       "  </tbody>\n",
       "</table>\n",
       "</div>"
      ],
      "text/plain": [
       "     release_date                        movie  production_budget  \\\n",
       "898  Sep 27, 2013  Metallica Through the Never           18000000   \n",
       "\n",
       "     domestic_gross  worldwide_gross  difference  year  runtime_minutes  \\\n",
       "898         3419967          9082906    -8917094  2013             93.0   \n",
       "\n",
       "    genre1 genre2        roi  \n",
       "898  Music     NA -49.539411  "
      ]
     },
     "execution_count": 78,
     "metadata": {},
     "output_type": "execute_result"
    }
   ],
   "source": [
    "movie_details_df1[movie_details_df1.genre1 == 'Music']"
   ]
  },
  {
   "cell_type": "code",
   "execution_count": 79,
   "metadata": {
    "ExecuteTime": {
     "end_time": "2020-12-03T19:36:49.382314Z",
     "start_time": "2020-12-03T19:36:49.371090Z"
    }
   },
   "outputs": [
    {
     "data": {
      "text/html": [
       "<div>\n",
       "<style scoped>\n",
       "    .dataframe tbody tr th:only-of-type {\n",
       "        vertical-align: middle;\n",
       "    }\n",
       "\n",
       "    .dataframe tbody tr th {\n",
       "        vertical-align: top;\n",
       "    }\n",
       "\n",
       "    .dataframe thead th {\n",
       "        text-align: right;\n",
       "    }\n",
       "</style>\n",
       "<table border=\"1\" class=\"dataframe\">\n",
       "  <thead>\n",
       "    <tr style=\"text-align: right;\">\n",
       "      <th></th>\n",
       "      <th>release_date</th>\n",
       "      <th>movie</th>\n",
       "      <th>production_budget</th>\n",
       "      <th>domestic_gross</th>\n",
       "      <th>worldwide_gross</th>\n",
       "      <th>difference</th>\n",
       "      <th>runtime_minutes</th>\n",
       "      <th>genre1</th>\n",
       "      <th>genre2</th>\n",
       "      <th>roi</th>\n",
       "    </tr>\n",
       "  </thead>\n",
       "  <tbody>\n",
       "    <tr>\n",
       "      <th>494</th>\n",
       "      <td>Mar 13, 2015</td>\n",
       "      <td>Cinderella</td>\n",
       "      <td>95000000</td>\n",
       "      <td>201151353</td>\n",
       "      <td>534551353</td>\n",
       "      <td>439551353</td>\n",
       "      <td>120.0</td>\n",
       "      <td>Music</td>\n",
       "      <td>NA</td>\n",
       "      <td>463.0</td>\n",
       "    </tr>\n",
       "    <tr>\n",
       "      <th>3459</th>\n",
       "      <td>Sep 27, 2013</td>\n",
       "      <td>Metallica Through the Never</td>\n",
       "      <td>18000000</td>\n",
       "      <td>3419967</td>\n",
       "      <td>9082906</td>\n",
       "      <td>-8917094</td>\n",
       "      <td>93.0</td>\n",
       "      <td>Music</td>\n",
       "      <td>NA</td>\n",
       "      <td>-50.0</td>\n",
       "    </tr>\n",
       "    <tr>\n",
       "      <th>4541</th>\n",
       "      <td>Dec 22, 2000</td>\n",
       "      <td>The House of Mirth</td>\n",
       "      <td>10000000</td>\n",
       "      <td>3041803</td>\n",
       "      <td>5149131</td>\n",
       "      <td>-4850869</td>\n",
       "      <td>64.0</td>\n",
       "      <td>Music</td>\n",
       "      <td>NA</td>\n",
       "      <td>-49.0</td>\n",
       "    </tr>\n",
       "    <tr>\n",
       "      <th>5943</th>\n",
       "      <td>Feb 15, 1950</td>\n",
       "      <td>Cinderella</td>\n",
       "      <td>2900000</td>\n",
       "      <td>85000000</td>\n",
       "      <td>263591415</td>\n",
       "      <td>260691415</td>\n",
       "      <td>120.0</td>\n",
       "      <td>Music</td>\n",
       "      <td>NA</td>\n",
       "      <td>8989.0</td>\n",
       "    </tr>\n",
       "    <tr>\n",
       "      <th>6078</th>\n",
       "      <td>Jul 13, 2001</td>\n",
       "      <td>Bully</td>\n",
       "      <td>2100000</td>\n",
       "      <td>881824</td>\n",
       "      <td>1381824</td>\n",
       "      <td>-718176</td>\n",
       "      <td>112.0</td>\n",
       "      <td>Music</td>\n",
       "      <td>NA</td>\n",
       "      <td>-34.0</td>\n",
       "    </tr>\n",
       "    <tr>\n",
       "      <th>6537</th>\n",
       "      <td>Dec 7, 2001</td>\n",
       "      <td>No Man's Land</td>\n",
       "      <td>1000000</td>\n",
       "      <td>1067481</td>\n",
       "      <td>2684207</td>\n",
       "      <td>1684207</td>\n",
       "      <td>85.0</td>\n",
       "      <td>Music</td>\n",
       "      <td>War</td>\n",
       "      <td>168.0</td>\n",
       "    </tr>\n",
       "  </tbody>\n",
       "</table>\n",
       "</div>"
      ],
      "text/plain": [
       "      release_date                        movie  production_budget  \\\n",
       "494   Mar 13, 2015                   Cinderella           95000000   \n",
       "3459  Sep 27, 2013  Metallica Through the Never           18000000   \n",
       "4541  Dec 22, 2000           The House of Mirth           10000000   \n",
       "5943  Feb 15, 1950                   Cinderella            2900000   \n",
       "6078  Jul 13, 2001                        Bully            2100000   \n",
       "6537   Dec 7, 2001                No Man's Land            1000000   \n",
       "\n",
       "      domestic_gross  worldwide_gross  difference  runtime_minutes genre1  \\\n",
       "494        201151353        534551353   439551353            120.0  Music   \n",
       "3459         3419967          9082906    -8917094             93.0  Music   \n",
       "4541         3041803          5149131    -4850869             64.0  Music   \n",
       "5943        85000000        263591415   260691415            120.0  Music   \n",
       "6078          881824          1381824     -718176            112.0  Music   \n",
       "6537         1067481          2684207     1684207             85.0  Music   \n",
       "\n",
       "     genre2     roi  \n",
       "494      NA   463.0  \n",
       "3459     NA   -50.0  \n",
       "4541     NA   -49.0  \n",
       "5943     NA  8989.0  \n",
       "6078     NA   -34.0  \n",
       "6537    War   168.0  "
      ]
     },
     "execution_count": 79,
     "metadata": {},
     "output_type": "execute_result"
    }
   ],
   "source": [
    "movie_details_df[movie_details_df.genre1 == 'Music']"
   ]
  },
  {
   "cell_type": "code",
   "execution_count": null,
   "metadata": {},
   "outputs": [],
   "source": []
  },
  {
   "cell_type": "code",
   "execution_count": null,
   "metadata": {},
   "outputs": [],
   "source": []
  },
  {
   "cell_type": "code",
   "execution_count": null,
   "metadata": {},
   "outputs": [],
   "source": []
  }
 ],
 "metadata": {
  "kernelspec": {
   "display_name": "Python 3",
   "language": "python",
   "name": "python3"
  },
  "language_info": {
   "codemirror_mode": {
    "name": "ipython",
    "version": 3
   },
   "file_extension": ".py",
   "mimetype": "text/x-python",
   "name": "python",
   "nbconvert_exporter": "python",
   "pygments_lexer": "ipython3",
   "version": "3.7.3"
  },
  "toc": {
   "base_numbering": 1,
   "nav_menu": {},
   "number_sections": true,
   "sideBar": true,
   "skip_h1_title": false,
   "title_cell": "Table of Contents",
   "title_sidebar": "Contents",
   "toc_cell": false,
   "toc_position": {},
   "toc_section_display": true,
   "toc_window_display": false
  },
  "varInspector": {
   "cols": {
    "lenName": 16,
    "lenType": 16,
    "lenVar": 40
   },
   "kernels_config": {
    "python": {
     "delete_cmd_postfix": "",
     "delete_cmd_prefix": "del ",
     "library": "var_list.py",
     "varRefreshCmd": "print(var_dic_list())"
    },
    "r": {
     "delete_cmd_postfix": ") ",
     "delete_cmd_prefix": "rm(",
     "library": "var_list.r",
     "varRefreshCmd": "cat(var_dic_list()) "
    }
   },
   "types_to_exclude": [
    "module",
    "function",
    "builtin_function_or_method",
    "instance",
    "_Feature"
   ],
   "window_display": false
  }
 },
 "nbformat": 4,
 "nbformat_minor": 2
}
